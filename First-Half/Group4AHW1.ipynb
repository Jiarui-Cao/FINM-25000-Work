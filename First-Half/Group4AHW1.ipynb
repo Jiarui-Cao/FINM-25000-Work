{
  "nbformat": 4,
  "nbformat_minor": 0,
  "metadata": {
    "colab": {
      "name": "Group4AHW1.ipynb",
      "provenance": [],
      "toc_visible": true,
      "collapsed_sections": []
    },
    "kernelspec": {
      "name": "python3",
      "display_name": "Python 3"
    },
    "language_info": {
      "name": "python"
    }
  },
  "cells": [
    {
      "cell_type": "code",
      "execution_count": null,
      "metadata": {
        "id": "KopQfJhoQm1E"
      },
      "outputs": [],
      "source": [
        "import pandas as pd\n",
        "import numpy as np\n",
        "import matplotlib.pyplot as plt\n",
        "import seaborn as sns\n"
      ]
    },
    {
      "cell_type": "code",
      "source": [
        "# Personal note: the following path is for the data being stored in the same\n",
        "# dir as the sample_data dir. colab refreshes and sometimes gets rid of this\n",
        "# so just need to reupload whenever it gets removed. Looking for a fix to this\n",
        "# Yining: When I run the code, the file cannot be traced, so I reuploaded to the following dir. \n",
        "# It may vanish again.\n",
        "xlpath = \"/content/sample_data/multi_asset_etf_data.xlsx\"\n",
        "\n",
        "dataDesc = pd.read_excel(xlpath, sheet_name = \"descriptions\")\n",
        "dataTotReturns = pd.read_excel(xlpath, sheet_name = \"total returns\")\n",
        "dataExsReturns = pd.read_excel(xlpath, sheet_name = \"excess returns\")\n",
        "\n",
        "# TotData = [dataDesc, dataTotReturns, dataExsReturns]\n",
        "# for data in TotData:\n",
        "#   display(data)\n",
        "\n",
        "print(\"Below we have a description of all the assets:\")\n",
        "display(dataDesc)\n",
        "\n",
        "print(\"This is the total returns on the aforementioned assets:\")\n",
        "display(dataTotReturns)\n",
        "\n",
        "print(\"And finally the excess returns:\")\n",
        "display(dataExsReturns)\n"
      ],
      "metadata": {
        "id": "jcqEEWPLReU-",
        "colab": {
          "base_uri": "https://localhost:8080/",
          "height": 1000
        },
        "outputId": "9b2a6367-cdd9-4eef-d6ae-83561e880359"
      },
      "execution_count": null,
      "outputs": [
        {
          "output_type": "stream",
          "name": "stdout",
          "text": [
            "Below we have a description of all the assets:\n"
          ]
        },
        {
          "output_type": "display_data",
          "data": {
            "text/plain": [
              "   Unnamed: 0                                    ETF Description\n",
              "0         SPY                        Domestic Equity SPDR S&P500\n",
              "1         EFA                        Foreign Equity iShares EAFE\n",
              "2         EEM                           iShares Emerging Markets\n",
              "3         PSP       Private Equity Invesco Global Private Equity\n",
              "4         QAI                     Absolute Return IQ Multi-Strat\n",
              "5         HYG       High Yield iShares High Yield Corporate Bond\n",
              "6         DBC           Invesco DB Commodity Index Tracking Fund\n",
              "7         IYR                 Real Estate iShares US Real Estate\n",
              "8         IEF          Domestic Bonds iShares 7-10 Year Treasury\n",
              "9         BWX  Foreign Bonds SPDR Bloomberg Barclay Internati...\n",
              "10        TIP                Inflation-Indexed iShares TIPS Bond\n",
              "11        SHV                        iShares Short Treasury Bond"
            ],
            "text/html": [
              "\n",
              "  <div id=\"df-37f39cb8-f034-40ee-810e-646510052726\">\n",
              "    <div class=\"colab-df-container\">\n",
              "      <div>\n",
              "<style scoped>\n",
              "    .dataframe tbody tr th:only-of-type {\n",
              "        vertical-align: middle;\n",
              "    }\n",
              "\n",
              "    .dataframe tbody tr th {\n",
              "        vertical-align: top;\n",
              "    }\n",
              "\n",
              "    .dataframe thead th {\n",
              "        text-align: right;\n",
              "    }\n",
              "</style>\n",
              "<table border=\"1\" class=\"dataframe\">\n",
              "  <thead>\n",
              "    <tr style=\"text-align: right;\">\n",
              "      <th></th>\n",
              "      <th>Unnamed: 0</th>\n",
              "      <th>ETF Description</th>\n",
              "    </tr>\n",
              "  </thead>\n",
              "  <tbody>\n",
              "    <tr>\n",
              "      <th>0</th>\n",
              "      <td>SPY</td>\n",
              "      <td>Domestic Equity SPDR S&amp;P500</td>\n",
              "    </tr>\n",
              "    <tr>\n",
              "      <th>1</th>\n",
              "      <td>EFA</td>\n",
              "      <td>Foreign Equity iShares EAFE</td>\n",
              "    </tr>\n",
              "    <tr>\n",
              "      <th>2</th>\n",
              "      <td>EEM</td>\n",
              "      <td>iShares Emerging Markets</td>\n",
              "    </tr>\n",
              "    <tr>\n",
              "      <th>3</th>\n",
              "      <td>PSP</td>\n",
              "      <td>Private Equity Invesco Global Private Equity</td>\n",
              "    </tr>\n",
              "    <tr>\n",
              "      <th>4</th>\n",
              "      <td>QAI</td>\n",
              "      <td>Absolute Return IQ Multi-Strat</td>\n",
              "    </tr>\n",
              "    <tr>\n",
              "      <th>5</th>\n",
              "      <td>HYG</td>\n",
              "      <td>High Yield iShares High Yield Corporate Bond</td>\n",
              "    </tr>\n",
              "    <tr>\n",
              "      <th>6</th>\n",
              "      <td>DBC</td>\n",
              "      <td>Invesco DB Commodity Index Tracking Fund</td>\n",
              "    </tr>\n",
              "    <tr>\n",
              "      <th>7</th>\n",
              "      <td>IYR</td>\n",
              "      <td>Real Estate iShares US Real Estate</td>\n",
              "    </tr>\n",
              "    <tr>\n",
              "      <th>8</th>\n",
              "      <td>IEF</td>\n",
              "      <td>Domestic Bonds iShares 7-10 Year Treasury</td>\n",
              "    </tr>\n",
              "    <tr>\n",
              "      <th>9</th>\n",
              "      <td>BWX</td>\n",
              "      <td>Foreign Bonds SPDR Bloomberg Barclay Internati...</td>\n",
              "    </tr>\n",
              "    <tr>\n",
              "      <th>10</th>\n",
              "      <td>TIP</td>\n",
              "      <td>Inflation-Indexed iShares TIPS Bond</td>\n",
              "    </tr>\n",
              "    <tr>\n",
              "      <th>11</th>\n",
              "      <td>SHV</td>\n",
              "      <td>iShares Short Treasury Bond</td>\n",
              "    </tr>\n",
              "  </tbody>\n",
              "</table>\n",
              "</div>\n",
              "      <button class=\"colab-df-convert\" onclick=\"convertToInteractive('df-37f39cb8-f034-40ee-810e-646510052726')\"\n",
              "              title=\"Convert this dataframe to an interactive table.\"\n",
              "              style=\"display:none;\">\n",
              "        \n",
              "  <svg xmlns=\"http://www.w3.org/2000/svg\" height=\"24px\"viewBox=\"0 0 24 24\"\n",
              "       width=\"24px\">\n",
              "    <path d=\"M0 0h24v24H0V0z\" fill=\"none\"/>\n",
              "    <path d=\"M18.56 5.44l.94 2.06.94-2.06 2.06-.94-2.06-.94-.94-2.06-.94 2.06-2.06.94zm-11 1L8.5 8.5l.94-2.06 2.06-.94-2.06-.94L8.5 2.5l-.94 2.06-2.06.94zm10 10l.94 2.06.94-2.06 2.06-.94-2.06-.94-.94-2.06-.94 2.06-2.06.94z\"/><path d=\"M17.41 7.96l-1.37-1.37c-.4-.4-.92-.59-1.43-.59-.52 0-1.04.2-1.43.59L10.3 9.45l-7.72 7.72c-.78.78-.78 2.05 0 2.83L4 21.41c.39.39.9.59 1.41.59.51 0 1.02-.2 1.41-.59l7.78-7.78 2.81-2.81c.8-.78.8-2.07 0-2.86zM5.41 20L4 18.59l7.72-7.72 1.47 1.35L5.41 20z\"/>\n",
              "  </svg>\n",
              "      </button>\n",
              "      \n",
              "  <style>\n",
              "    .colab-df-container {\n",
              "      display:flex;\n",
              "      flex-wrap:wrap;\n",
              "      gap: 12px;\n",
              "    }\n",
              "\n",
              "    .colab-df-convert {\n",
              "      background-color: #E8F0FE;\n",
              "      border: none;\n",
              "      border-radius: 50%;\n",
              "      cursor: pointer;\n",
              "      display: none;\n",
              "      fill: #1967D2;\n",
              "      height: 32px;\n",
              "      padding: 0 0 0 0;\n",
              "      width: 32px;\n",
              "    }\n",
              "\n",
              "    .colab-df-convert:hover {\n",
              "      background-color: #E2EBFA;\n",
              "      box-shadow: 0px 1px 2px rgba(60, 64, 67, 0.3), 0px 1px 3px 1px rgba(60, 64, 67, 0.15);\n",
              "      fill: #174EA6;\n",
              "    }\n",
              "\n",
              "    [theme=dark] .colab-df-convert {\n",
              "      background-color: #3B4455;\n",
              "      fill: #D2E3FC;\n",
              "    }\n",
              "\n",
              "    [theme=dark] .colab-df-convert:hover {\n",
              "      background-color: #434B5C;\n",
              "      box-shadow: 0px 1px 3px 1px rgba(0, 0, 0, 0.15);\n",
              "      filter: drop-shadow(0px 1px 2px rgba(0, 0, 0, 0.3));\n",
              "      fill: #FFFFFF;\n",
              "    }\n",
              "  </style>\n",
              "\n",
              "      <script>\n",
              "        const buttonEl =\n",
              "          document.querySelector('#df-37f39cb8-f034-40ee-810e-646510052726 button.colab-df-convert');\n",
              "        buttonEl.style.display =\n",
              "          google.colab.kernel.accessAllowed ? 'block' : 'none';\n",
              "\n",
              "        async function convertToInteractive(key) {\n",
              "          const element = document.querySelector('#df-37f39cb8-f034-40ee-810e-646510052726');\n",
              "          const dataTable =\n",
              "            await google.colab.kernel.invokeFunction('convertToInteractive',\n",
              "                                                     [key], {});\n",
              "          if (!dataTable) return;\n",
              "\n",
              "          const docLinkHtml = 'Like what you see? Visit the ' +\n",
              "            '<a target=\"_blank\" href=https://colab.research.google.com/notebooks/data_table.ipynb>data table notebook</a>'\n",
              "            + ' to learn more about interactive tables.';\n",
              "          element.innerHTML = '';\n",
              "          dataTable['output_type'] = 'display_data';\n",
              "          await google.colab.output.renderOutput(dataTable, element);\n",
              "          const docLink = document.createElement('div');\n",
              "          docLink.innerHTML = docLinkHtml;\n",
              "          element.appendChild(docLink);\n",
              "        }\n",
              "      </script>\n",
              "    </div>\n",
              "  </div>\n",
              "  "
            ]
          },
          "metadata": {}
        },
        {
          "output_type": "stream",
          "name": "stdout",
          "text": [
            "This is the total returns on the aforementioned assets:\n"
          ]
        },
        {
          "output_type": "display_data",
          "data": {
            "text/plain": [
              "          Date       BWX       DBC       EEM       EFA       HYG       IEF  \\\n",
              "0   2009-04-30  0.008993 -0.001000  0.155582  0.115190  0.138461 -0.027452   \n",
              "1   2009-05-31  0.053672  0.162663  0.159400  0.131918  0.028554 -0.020773   \n",
              "2   2009-06-30  0.005149 -0.026259 -0.022495 -0.014049  0.033517 -0.005571   \n",
              "3   2009-07-31  0.031284  0.018568  0.110146  0.100415  0.069191  0.008317   \n",
              "4   2009-08-31  0.007628 -0.040365 -0.013136  0.045031 -0.016969  0.007633   \n",
              "..         ...       ...       ...       ...       ...       ...       ...   \n",
              "153 2022-01-31 -0.026176  0.078922 -0.000205 -0.036350 -0.026549 -0.021130   \n",
              "154 2022-02-28 -0.011197  0.064674 -0.043202 -0.034292 -0.008591 -0.003041   \n",
              "155 2022-03-31 -0.042240  0.091747 -0.033811  0.005190 -0.012871 -0.040609   \n",
              "156 2022-04-30 -0.069696  0.056408 -0.061351 -0.067391 -0.041803 -0.042283   \n",
              "157 2022-05-31  0.011250  0.053396 -0.007787  0.026078  0.025120  0.016799   \n",
              "\n",
              "          IYR       PSP       QAI       SHV       SPY       TIP  \n",
              "0    0.296151  0.230202  0.022882  0.000553  0.099347 -0.017951  \n",
              "1    0.022727  0.053893  0.027865 -0.000471  0.058453  0.019966  \n",
              "2   -0.024863  0.045449 -0.003436  0.000599 -0.000655  0.001981  \n",
              "3    0.105799  0.143247  0.015326 -0.000027  0.074606  0.000879  \n",
              "4    0.131938  0.033413 -0.004151  0.000435  0.036940  0.008414  \n",
              "..        ...       ...       ...       ...       ...       ...  \n",
              "153 -0.082314 -0.086028 -0.020761 -0.000815 -0.052741 -0.020588  \n",
              "154 -0.045881 -0.073602 -0.006746 -0.000363 -0.029517  0.008557  \n",
              "155  0.068646 -0.007721 -0.002587 -0.000363  0.037590 -0.018755  \n",
              "156 -0.041305 -0.125679 -0.033398 -0.000290 -0.087769 -0.021830  \n",
              "157 -0.032675  0.013310 -0.002348  0.000935  0.007913 -0.002847  \n",
              "\n",
              "[158 rows x 13 columns]"
            ],
            "text/html": [
              "\n",
              "  <div id=\"df-bd59d571-f770-4753-bc34-3e0a8f5ce591\">\n",
              "    <div class=\"colab-df-container\">\n",
              "      <div>\n",
              "<style scoped>\n",
              "    .dataframe tbody tr th:only-of-type {\n",
              "        vertical-align: middle;\n",
              "    }\n",
              "\n",
              "    .dataframe tbody tr th {\n",
              "        vertical-align: top;\n",
              "    }\n",
              "\n",
              "    .dataframe thead th {\n",
              "        text-align: right;\n",
              "    }\n",
              "</style>\n",
              "<table border=\"1\" class=\"dataframe\">\n",
              "  <thead>\n",
              "    <tr style=\"text-align: right;\">\n",
              "      <th></th>\n",
              "      <th>Date</th>\n",
              "      <th>BWX</th>\n",
              "      <th>DBC</th>\n",
              "      <th>EEM</th>\n",
              "      <th>EFA</th>\n",
              "      <th>HYG</th>\n",
              "      <th>IEF</th>\n",
              "      <th>IYR</th>\n",
              "      <th>PSP</th>\n",
              "      <th>QAI</th>\n",
              "      <th>SHV</th>\n",
              "      <th>SPY</th>\n",
              "      <th>TIP</th>\n",
              "    </tr>\n",
              "  </thead>\n",
              "  <tbody>\n",
              "    <tr>\n",
              "      <th>0</th>\n",
              "      <td>2009-04-30</td>\n",
              "      <td>0.008993</td>\n",
              "      <td>-0.001000</td>\n",
              "      <td>0.155582</td>\n",
              "      <td>0.115190</td>\n",
              "      <td>0.138461</td>\n",
              "      <td>-0.027452</td>\n",
              "      <td>0.296151</td>\n",
              "      <td>0.230202</td>\n",
              "      <td>0.022882</td>\n",
              "      <td>0.000553</td>\n",
              "      <td>0.099347</td>\n",
              "      <td>-0.017951</td>\n",
              "    </tr>\n",
              "    <tr>\n",
              "      <th>1</th>\n",
              "      <td>2009-05-31</td>\n",
              "      <td>0.053672</td>\n",
              "      <td>0.162663</td>\n",
              "      <td>0.159400</td>\n",
              "      <td>0.131918</td>\n",
              "      <td>0.028554</td>\n",
              "      <td>-0.020773</td>\n",
              "      <td>0.022727</td>\n",
              "      <td>0.053893</td>\n",
              "      <td>0.027865</td>\n",
              "      <td>-0.000471</td>\n",
              "      <td>0.058453</td>\n",
              "      <td>0.019966</td>\n",
              "    </tr>\n",
              "    <tr>\n",
              "      <th>2</th>\n",
              "      <td>2009-06-30</td>\n",
              "      <td>0.005149</td>\n",
              "      <td>-0.026259</td>\n",
              "      <td>-0.022495</td>\n",
              "      <td>-0.014049</td>\n",
              "      <td>0.033517</td>\n",
              "      <td>-0.005571</td>\n",
              "      <td>-0.024863</td>\n",
              "      <td>0.045449</td>\n",
              "      <td>-0.003436</td>\n",
              "      <td>0.000599</td>\n",
              "      <td>-0.000655</td>\n",
              "      <td>0.001981</td>\n",
              "    </tr>\n",
              "    <tr>\n",
              "      <th>3</th>\n",
              "      <td>2009-07-31</td>\n",
              "      <td>0.031284</td>\n",
              "      <td>0.018568</td>\n",
              "      <td>0.110146</td>\n",
              "      <td>0.100415</td>\n",
              "      <td>0.069191</td>\n",
              "      <td>0.008317</td>\n",
              "      <td>0.105799</td>\n",
              "      <td>0.143247</td>\n",
              "      <td>0.015326</td>\n",
              "      <td>-0.000027</td>\n",
              "      <td>0.074606</td>\n",
              "      <td>0.000879</td>\n",
              "    </tr>\n",
              "    <tr>\n",
              "      <th>4</th>\n",
              "      <td>2009-08-31</td>\n",
              "      <td>0.007628</td>\n",
              "      <td>-0.040365</td>\n",
              "      <td>-0.013136</td>\n",
              "      <td>0.045031</td>\n",
              "      <td>-0.016969</td>\n",
              "      <td>0.007633</td>\n",
              "      <td>0.131938</td>\n",
              "      <td>0.033413</td>\n",
              "      <td>-0.004151</td>\n",
              "      <td>0.000435</td>\n",
              "      <td>0.036940</td>\n",
              "      <td>0.008414</td>\n",
              "    </tr>\n",
              "    <tr>\n",
              "      <th>...</th>\n",
              "      <td>...</td>\n",
              "      <td>...</td>\n",
              "      <td>...</td>\n",
              "      <td>...</td>\n",
              "      <td>...</td>\n",
              "      <td>...</td>\n",
              "      <td>...</td>\n",
              "      <td>...</td>\n",
              "      <td>...</td>\n",
              "      <td>...</td>\n",
              "      <td>...</td>\n",
              "      <td>...</td>\n",
              "      <td>...</td>\n",
              "    </tr>\n",
              "    <tr>\n",
              "      <th>153</th>\n",
              "      <td>2022-01-31</td>\n",
              "      <td>-0.026176</td>\n",
              "      <td>0.078922</td>\n",
              "      <td>-0.000205</td>\n",
              "      <td>-0.036350</td>\n",
              "      <td>-0.026549</td>\n",
              "      <td>-0.021130</td>\n",
              "      <td>-0.082314</td>\n",
              "      <td>-0.086028</td>\n",
              "      <td>-0.020761</td>\n",
              "      <td>-0.000815</td>\n",
              "      <td>-0.052741</td>\n",
              "      <td>-0.020588</td>\n",
              "    </tr>\n",
              "    <tr>\n",
              "      <th>154</th>\n",
              "      <td>2022-02-28</td>\n",
              "      <td>-0.011197</td>\n",
              "      <td>0.064674</td>\n",
              "      <td>-0.043202</td>\n",
              "      <td>-0.034292</td>\n",
              "      <td>-0.008591</td>\n",
              "      <td>-0.003041</td>\n",
              "      <td>-0.045881</td>\n",
              "      <td>-0.073602</td>\n",
              "      <td>-0.006746</td>\n",
              "      <td>-0.000363</td>\n",
              "      <td>-0.029517</td>\n",
              "      <td>0.008557</td>\n",
              "    </tr>\n",
              "    <tr>\n",
              "      <th>155</th>\n",
              "      <td>2022-03-31</td>\n",
              "      <td>-0.042240</td>\n",
              "      <td>0.091747</td>\n",
              "      <td>-0.033811</td>\n",
              "      <td>0.005190</td>\n",
              "      <td>-0.012871</td>\n",
              "      <td>-0.040609</td>\n",
              "      <td>0.068646</td>\n",
              "      <td>-0.007721</td>\n",
              "      <td>-0.002587</td>\n",
              "      <td>-0.000363</td>\n",
              "      <td>0.037590</td>\n",
              "      <td>-0.018755</td>\n",
              "    </tr>\n",
              "    <tr>\n",
              "      <th>156</th>\n",
              "      <td>2022-04-30</td>\n",
              "      <td>-0.069696</td>\n",
              "      <td>0.056408</td>\n",
              "      <td>-0.061351</td>\n",
              "      <td>-0.067391</td>\n",
              "      <td>-0.041803</td>\n",
              "      <td>-0.042283</td>\n",
              "      <td>-0.041305</td>\n",
              "      <td>-0.125679</td>\n",
              "      <td>-0.033398</td>\n",
              "      <td>-0.000290</td>\n",
              "      <td>-0.087769</td>\n",
              "      <td>-0.021830</td>\n",
              "    </tr>\n",
              "    <tr>\n",
              "      <th>157</th>\n",
              "      <td>2022-05-31</td>\n",
              "      <td>0.011250</td>\n",
              "      <td>0.053396</td>\n",
              "      <td>-0.007787</td>\n",
              "      <td>0.026078</td>\n",
              "      <td>0.025120</td>\n",
              "      <td>0.016799</td>\n",
              "      <td>-0.032675</td>\n",
              "      <td>0.013310</td>\n",
              "      <td>-0.002348</td>\n",
              "      <td>0.000935</td>\n",
              "      <td>0.007913</td>\n",
              "      <td>-0.002847</td>\n",
              "    </tr>\n",
              "  </tbody>\n",
              "</table>\n",
              "<p>158 rows × 13 columns</p>\n",
              "</div>\n",
              "      <button class=\"colab-df-convert\" onclick=\"convertToInteractive('df-bd59d571-f770-4753-bc34-3e0a8f5ce591')\"\n",
              "              title=\"Convert this dataframe to an interactive table.\"\n",
              "              style=\"display:none;\">\n",
              "        \n",
              "  <svg xmlns=\"http://www.w3.org/2000/svg\" height=\"24px\"viewBox=\"0 0 24 24\"\n",
              "       width=\"24px\">\n",
              "    <path d=\"M0 0h24v24H0V0z\" fill=\"none\"/>\n",
              "    <path d=\"M18.56 5.44l.94 2.06.94-2.06 2.06-.94-2.06-.94-.94-2.06-.94 2.06-2.06.94zm-11 1L8.5 8.5l.94-2.06 2.06-.94-2.06-.94L8.5 2.5l-.94 2.06-2.06.94zm10 10l.94 2.06.94-2.06 2.06-.94-2.06-.94-.94-2.06-.94 2.06-2.06.94z\"/><path d=\"M17.41 7.96l-1.37-1.37c-.4-.4-.92-.59-1.43-.59-.52 0-1.04.2-1.43.59L10.3 9.45l-7.72 7.72c-.78.78-.78 2.05 0 2.83L4 21.41c.39.39.9.59 1.41.59.51 0 1.02-.2 1.41-.59l7.78-7.78 2.81-2.81c.8-.78.8-2.07 0-2.86zM5.41 20L4 18.59l7.72-7.72 1.47 1.35L5.41 20z\"/>\n",
              "  </svg>\n",
              "      </button>\n",
              "      \n",
              "  <style>\n",
              "    .colab-df-container {\n",
              "      display:flex;\n",
              "      flex-wrap:wrap;\n",
              "      gap: 12px;\n",
              "    }\n",
              "\n",
              "    .colab-df-convert {\n",
              "      background-color: #E8F0FE;\n",
              "      border: none;\n",
              "      border-radius: 50%;\n",
              "      cursor: pointer;\n",
              "      display: none;\n",
              "      fill: #1967D2;\n",
              "      height: 32px;\n",
              "      padding: 0 0 0 0;\n",
              "      width: 32px;\n",
              "    }\n",
              "\n",
              "    .colab-df-convert:hover {\n",
              "      background-color: #E2EBFA;\n",
              "      box-shadow: 0px 1px 2px rgba(60, 64, 67, 0.3), 0px 1px 3px 1px rgba(60, 64, 67, 0.15);\n",
              "      fill: #174EA6;\n",
              "    }\n",
              "\n",
              "    [theme=dark] .colab-df-convert {\n",
              "      background-color: #3B4455;\n",
              "      fill: #D2E3FC;\n",
              "    }\n",
              "\n",
              "    [theme=dark] .colab-df-convert:hover {\n",
              "      background-color: #434B5C;\n",
              "      box-shadow: 0px 1px 3px 1px rgba(0, 0, 0, 0.15);\n",
              "      filter: drop-shadow(0px 1px 2px rgba(0, 0, 0, 0.3));\n",
              "      fill: #FFFFFF;\n",
              "    }\n",
              "  </style>\n",
              "\n",
              "      <script>\n",
              "        const buttonEl =\n",
              "          document.querySelector('#df-bd59d571-f770-4753-bc34-3e0a8f5ce591 button.colab-df-convert');\n",
              "        buttonEl.style.display =\n",
              "          google.colab.kernel.accessAllowed ? 'block' : 'none';\n",
              "\n",
              "        async function convertToInteractive(key) {\n",
              "          const element = document.querySelector('#df-bd59d571-f770-4753-bc34-3e0a8f5ce591');\n",
              "          const dataTable =\n",
              "            await google.colab.kernel.invokeFunction('convertToInteractive',\n",
              "                                                     [key], {});\n",
              "          if (!dataTable) return;\n",
              "\n",
              "          const docLinkHtml = 'Like what you see? Visit the ' +\n",
              "            '<a target=\"_blank\" href=https://colab.research.google.com/notebooks/data_table.ipynb>data table notebook</a>'\n",
              "            + ' to learn more about interactive tables.';\n",
              "          element.innerHTML = '';\n",
              "          dataTable['output_type'] = 'display_data';\n",
              "          await google.colab.output.renderOutput(dataTable, element);\n",
              "          const docLink = document.createElement('div');\n",
              "          docLink.innerHTML = docLinkHtml;\n",
              "          element.appendChild(docLink);\n",
              "        }\n",
              "      </script>\n",
              "    </div>\n",
              "  </div>\n",
              "  "
            ]
          },
          "metadata": {}
        },
        {
          "output_type": "stream",
          "name": "stdout",
          "text": [
            "And finally the excess returns:\n"
          ]
        },
        {
          "output_type": "display_data",
          "data": {
            "text/plain": [
              "          Date       BWX       DBC       EEM       EFA       HYG       IEF  \\\n",
              "0   2009-04-30  0.008440 -0.001553  0.155029  0.114637  0.137908 -0.028005   \n",
              "1   2009-05-31  0.054143  0.163134  0.159871  0.132389  0.029025 -0.020302   \n",
              "2   2009-06-30  0.004550 -0.026858 -0.023094 -0.014648  0.032918 -0.006170   \n",
              "3   2009-07-31  0.031311  0.018595  0.110173  0.100442  0.069218  0.008345   \n",
              "4   2009-08-31  0.007193 -0.040800 -0.013571  0.044596 -0.017404  0.007198   \n",
              "..         ...       ...       ...       ...       ...       ...       ...   \n",
              "153 2022-01-31 -0.025361  0.079737  0.000610 -0.035535 -0.025734 -0.020315   \n",
              "154 2022-02-28 -0.010834  0.065037 -0.042840 -0.033929 -0.008228 -0.002679   \n",
              "155 2022-03-31 -0.041877  0.092110 -0.033449  0.005552 -0.012509 -0.040247   \n",
              "156 2022-04-30 -0.069406  0.056699 -0.061061 -0.067101 -0.041513 -0.041992   \n",
              "157 2022-05-31  0.010315  0.052461 -0.008722  0.025143  0.024185  0.015864   \n",
              "\n",
              "          IYR       PSP       QAI       SPY       TIP  \n",
              "0    0.295598  0.229649  0.022329  0.098794 -0.018504  \n",
              "1    0.023198  0.054364  0.028336  0.058924  0.020438  \n",
              "2   -0.025462  0.044850 -0.004035 -0.001254  0.001382  \n",
              "3    0.105826  0.143274  0.015353  0.074633  0.000906  \n",
              "4    0.131503  0.032977 -0.004586  0.036505  0.007979  \n",
              "..        ...       ...       ...       ...       ...  \n",
              "153 -0.081499 -0.085213 -0.019946 -0.051926 -0.019773  \n",
              "154 -0.045518 -0.073240 -0.006383 -0.029154  0.008919  \n",
              "155  0.069009 -0.007359 -0.002225  0.037953 -0.018393  \n",
              "156 -0.041014 -0.125388 -0.033108 -0.087479 -0.021540  \n",
              "157 -0.033610  0.012375 -0.003283  0.006978 -0.003782  \n",
              "\n",
              "[158 rows x 12 columns]"
            ],
            "text/html": [
              "\n",
              "  <div id=\"df-434e882b-d121-4977-a357-630a6477fc8c\">\n",
              "    <div class=\"colab-df-container\">\n",
              "      <div>\n",
              "<style scoped>\n",
              "    .dataframe tbody tr th:only-of-type {\n",
              "        vertical-align: middle;\n",
              "    }\n",
              "\n",
              "    .dataframe tbody tr th {\n",
              "        vertical-align: top;\n",
              "    }\n",
              "\n",
              "    .dataframe thead th {\n",
              "        text-align: right;\n",
              "    }\n",
              "</style>\n",
              "<table border=\"1\" class=\"dataframe\">\n",
              "  <thead>\n",
              "    <tr style=\"text-align: right;\">\n",
              "      <th></th>\n",
              "      <th>Date</th>\n",
              "      <th>BWX</th>\n",
              "      <th>DBC</th>\n",
              "      <th>EEM</th>\n",
              "      <th>EFA</th>\n",
              "      <th>HYG</th>\n",
              "      <th>IEF</th>\n",
              "      <th>IYR</th>\n",
              "      <th>PSP</th>\n",
              "      <th>QAI</th>\n",
              "      <th>SPY</th>\n",
              "      <th>TIP</th>\n",
              "    </tr>\n",
              "  </thead>\n",
              "  <tbody>\n",
              "    <tr>\n",
              "      <th>0</th>\n",
              "      <td>2009-04-30</td>\n",
              "      <td>0.008440</td>\n",
              "      <td>-0.001553</td>\n",
              "      <td>0.155029</td>\n",
              "      <td>0.114637</td>\n",
              "      <td>0.137908</td>\n",
              "      <td>-0.028005</td>\n",
              "      <td>0.295598</td>\n",
              "      <td>0.229649</td>\n",
              "      <td>0.022329</td>\n",
              "      <td>0.098794</td>\n",
              "      <td>-0.018504</td>\n",
              "    </tr>\n",
              "    <tr>\n",
              "      <th>1</th>\n",
              "      <td>2009-05-31</td>\n",
              "      <td>0.054143</td>\n",
              "      <td>0.163134</td>\n",
              "      <td>0.159871</td>\n",
              "      <td>0.132389</td>\n",
              "      <td>0.029025</td>\n",
              "      <td>-0.020302</td>\n",
              "      <td>0.023198</td>\n",
              "      <td>0.054364</td>\n",
              "      <td>0.028336</td>\n",
              "      <td>0.058924</td>\n",
              "      <td>0.020438</td>\n",
              "    </tr>\n",
              "    <tr>\n",
              "      <th>2</th>\n",
              "      <td>2009-06-30</td>\n",
              "      <td>0.004550</td>\n",
              "      <td>-0.026858</td>\n",
              "      <td>-0.023094</td>\n",
              "      <td>-0.014648</td>\n",
              "      <td>0.032918</td>\n",
              "      <td>-0.006170</td>\n",
              "      <td>-0.025462</td>\n",
              "      <td>0.044850</td>\n",
              "      <td>-0.004035</td>\n",
              "      <td>-0.001254</td>\n",
              "      <td>0.001382</td>\n",
              "    </tr>\n",
              "    <tr>\n",
              "      <th>3</th>\n",
              "      <td>2009-07-31</td>\n",
              "      <td>0.031311</td>\n",
              "      <td>0.018595</td>\n",
              "      <td>0.110173</td>\n",
              "      <td>0.100442</td>\n",
              "      <td>0.069218</td>\n",
              "      <td>0.008345</td>\n",
              "      <td>0.105826</td>\n",
              "      <td>0.143274</td>\n",
              "      <td>0.015353</td>\n",
              "      <td>0.074633</td>\n",
              "      <td>0.000906</td>\n",
              "    </tr>\n",
              "    <tr>\n",
              "      <th>4</th>\n",
              "      <td>2009-08-31</td>\n",
              "      <td>0.007193</td>\n",
              "      <td>-0.040800</td>\n",
              "      <td>-0.013571</td>\n",
              "      <td>0.044596</td>\n",
              "      <td>-0.017404</td>\n",
              "      <td>0.007198</td>\n",
              "      <td>0.131503</td>\n",
              "      <td>0.032977</td>\n",
              "      <td>-0.004586</td>\n",
              "      <td>0.036505</td>\n",
              "      <td>0.007979</td>\n",
              "    </tr>\n",
              "    <tr>\n",
              "      <th>...</th>\n",
              "      <td>...</td>\n",
              "      <td>...</td>\n",
              "      <td>...</td>\n",
              "      <td>...</td>\n",
              "      <td>...</td>\n",
              "      <td>...</td>\n",
              "      <td>...</td>\n",
              "      <td>...</td>\n",
              "      <td>...</td>\n",
              "      <td>...</td>\n",
              "      <td>...</td>\n",
              "      <td>...</td>\n",
              "    </tr>\n",
              "    <tr>\n",
              "      <th>153</th>\n",
              "      <td>2022-01-31</td>\n",
              "      <td>-0.025361</td>\n",
              "      <td>0.079737</td>\n",
              "      <td>0.000610</td>\n",
              "      <td>-0.035535</td>\n",
              "      <td>-0.025734</td>\n",
              "      <td>-0.020315</td>\n",
              "      <td>-0.081499</td>\n",
              "      <td>-0.085213</td>\n",
              "      <td>-0.019946</td>\n",
              "      <td>-0.051926</td>\n",
              "      <td>-0.019773</td>\n",
              "    </tr>\n",
              "    <tr>\n",
              "      <th>154</th>\n",
              "      <td>2022-02-28</td>\n",
              "      <td>-0.010834</td>\n",
              "      <td>0.065037</td>\n",
              "      <td>-0.042840</td>\n",
              "      <td>-0.033929</td>\n",
              "      <td>-0.008228</td>\n",
              "      <td>-0.002679</td>\n",
              "      <td>-0.045518</td>\n",
              "      <td>-0.073240</td>\n",
              "      <td>-0.006383</td>\n",
              "      <td>-0.029154</td>\n",
              "      <td>0.008919</td>\n",
              "    </tr>\n",
              "    <tr>\n",
              "      <th>155</th>\n",
              "      <td>2022-03-31</td>\n",
              "      <td>-0.041877</td>\n",
              "      <td>0.092110</td>\n",
              "      <td>-0.033449</td>\n",
              "      <td>0.005552</td>\n",
              "      <td>-0.012509</td>\n",
              "      <td>-0.040247</td>\n",
              "      <td>0.069009</td>\n",
              "      <td>-0.007359</td>\n",
              "      <td>-0.002225</td>\n",
              "      <td>0.037953</td>\n",
              "      <td>-0.018393</td>\n",
              "    </tr>\n",
              "    <tr>\n",
              "      <th>156</th>\n",
              "      <td>2022-04-30</td>\n",
              "      <td>-0.069406</td>\n",
              "      <td>0.056699</td>\n",
              "      <td>-0.061061</td>\n",
              "      <td>-0.067101</td>\n",
              "      <td>-0.041513</td>\n",
              "      <td>-0.041992</td>\n",
              "      <td>-0.041014</td>\n",
              "      <td>-0.125388</td>\n",
              "      <td>-0.033108</td>\n",
              "      <td>-0.087479</td>\n",
              "      <td>-0.021540</td>\n",
              "    </tr>\n",
              "    <tr>\n",
              "      <th>157</th>\n",
              "      <td>2022-05-31</td>\n",
              "      <td>0.010315</td>\n",
              "      <td>0.052461</td>\n",
              "      <td>-0.008722</td>\n",
              "      <td>0.025143</td>\n",
              "      <td>0.024185</td>\n",
              "      <td>0.015864</td>\n",
              "      <td>-0.033610</td>\n",
              "      <td>0.012375</td>\n",
              "      <td>-0.003283</td>\n",
              "      <td>0.006978</td>\n",
              "      <td>-0.003782</td>\n",
              "    </tr>\n",
              "  </tbody>\n",
              "</table>\n",
              "<p>158 rows × 12 columns</p>\n",
              "</div>\n",
              "      <button class=\"colab-df-convert\" onclick=\"convertToInteractive('df-434e882b-d121-4977-a357-630a6477fc8c')\"\n",
              "              title=\"Convert this dataframe to an interactive table.\"\n",
              "              style=\"display:none;\">\n",
              "        \n",
              "  <svg xmlns=\"http://www.w3.org/2000/svg\" height=\"24px\"viewBox=\"0 0 24 24\"\n",
              "       width=\"24px\">\n",
              "    <path d=\"M0 0h24v24H0V0z\" fill=\"none\"/>\n",
              "    <path d=\"M18.56 5.44l.94 2.06.94-2.06 2.06-.94-2.06-.94-.94-2.06-.94 2.06-2.06.94zm-11 1L8.5 8.5l.94-2.06 2.06-.94-2.06-.94L8.5 2.5l-.94 2.06-2.06.94zm10 10l.94 2.06.94-2.06 2.06-.94-2.06-.94-.94-2.06-.94 2.06-2.06.94z\"/><path d=\"M17.41 7.96l-1.37-1.37c-.4-.4-.92-.59-1.43-.59-.52 0-1.04.2-1.43.59L10.3 9.45l-7.72 7.72c-.78.78-.78 2.05 0 2.83L4 21.41c.39.39.9.59 1.41.59.51 0 1.02-.2 1.41-.59l7.78-7.78 2.81-2.81c.8-.78.8-2.07 0-2.86zM5.41 20L4 18.59l7.72-7.72 1.47 1.35L5.41 20z\"/>\n",
              "  </svg>\n",
              "      </button>\n",
              "      \n",
              "  <style>\n",
              "    .colab-df-container {\n",
              "      display:flex;\n",
              "      flex-wrap:wrap;\n",
              "      gap: 12px;\n",
              "    }\n",
              "\n",
              "    .colab-df-convert {\n",
              "      background-color: #E8F0FE;\n",
              "      border: none;\n",
              "      border-radius: 50%;\n",
              "      cursor: pointer;\n",
              "      display: none;\n",
              "      fill: #1967D2;\n",
              "      height: 32px;\n",
              "      padding: 0 0 0 0;\n",
              "      width: 32px;\n",
              "    }\n",
              "\n",
              "    .colab-df-convert:hover {\n",
              "      background-color: #E2EBFA;\n",
              "      box-shadow: 0px 1px 2px rgba(60, 64, 67, 0.3), 0px 1px 3px 1px rgba(60, 64, 67, 0.15);\n",
              "      fill: #174EA6;\n",
              "    }\n",
              "\n",
              "    [theme=dark] .colab-df-convert {\n",
              "      background-color: #3B4455;\n",
              "      fill: #D2E3FC;\n",
              "    }\n",
              "\n",
              "    [theme=dark] .colab-df-convert:hover {\n",
              "      background-color: #434B5C;\n",
              "      box-shadow: 0px 1px 3px 1px rgba(0, 0, 0, 0.15);\n",
              "      filter: drop-shadow(0px 1px 2px rgba(0, 0, 0, 0.3));\n",
              "      fill: #FFFFFF;\n",
              "    }\n",
              "  </style>\n",
              "\n",
              "      <script>\n",
              "        const buttonEl =\n",
              "          document.querySelector('#df-434e882b-d121-4977-a357-630a6477fc8c button.colab-df-convert');\n",
              "        buttonEl.style.display =\n",
              "          google.colab.kernel.accessAllowed ? 'block' : 'none';\n",
              "\n",
              "        async function convertToInteractive(key) {\n",
              "          const element = document.querySelector('#df-434e882b-d121-4977-a357-630a6477fc8c');\n",
              "          const dataTable =\n",
              "            await google.colab.kernel.invokeFunction('convertToInteractive',\n",
              "                                                     [key], {});\n",
              "          if (!dataTable) return;\n",
              "\n",
              "          const docLinkHtml = 'Like what you see? Visit the ' +\n",
              "            '<a target=\"_blank\" href=https://colab.research.google.com/notebooks/data_table.ipynb>data table notebook</a>'\n",
              "            + ' to learn more about interactive tables.';\n",
              "          element.innerHTML = '';\n",
              "          dataTable['output_type'] = 'display_data';\n",
              "          await google.colab.output.renderOutput(dataTable, element);\n",
              "          const docLink = document.createElement('div');\n",
              "          docLink.innerHTML = docLinkHtml;\n",
              "          element.appendChild(docLink);\n",
              "        }\n",
              "      </script>\n",
              "    </div>\n",
              "  </div>\n",
              "  "
            ]
          },
          "metadata": {}
        }
      ]
    },
    {
      "cell_type": "markdown",
      "source": [
        "#2.1) Summary Statistics\n",
        "######a) Mean and Volatility"
      ],
      "metadata": {
        "id": "c4sxMGl5z571"
      }
    },
    {
      "cell_type": "code",
      "source": [
        "print(\"Below is a table of the mean excess returns of each of the assets:\")\n",
        "display(dataExsReturns.mean(numeric_only = True))\n",
        "\n",
        "print(\"\\nSimilarly, below is a table of the volatility of the excess returns:\")\n",
        "display(dataExsReturns.std(numeric_only = True))\n"
      ],
      "metadata": {
        "colab": {
          "base_uri": "https://localhost:8080/",
          "height": 499
        },
        "id": "5IMggw7DvyZ2",
        "outputId": "439152b0-895f-4265-98a1-a2e57cd95d98"
      },
      "execution_count": null,
      "outputs": [
        {
          "output_type": "stream",
          "name": "stdout",
          "text": [
            "Below is a table of the mean excess returns of each of the assets:\n"
          ]
        },
        {
          "output_type": "display_data",
          "data": {
            "text/plain": [
              "BWX    0.000533\n",
              "DBC    0.003519\n",
              "EEM    0.006146\n",
              "EFA    0.007114\n",
              "HYG    0.006009\n",
              "IEF    0.001959\n",
              "IYR    0.012657\n",
              "PSP    0.011578\n",
              "QAI    0.001712\n",
              "SPY    0.012561\n",
              "TIP    0.002667\n",
              "dtype: float64"
            ]
          },
          "metadata": {}
        },
        {
          "output_type": "stream",
          "name": "stdout",
          "text": [
            "\n",
            "Similarly, below is a table of the volatility of the excess returns:\n"
          ]
        },
        {
          "output_type": "display_data",
          "data": {
            "text/plain": [
              "BWX    0.022085\n",
              "DBC    0.052289\n",
              "EEM    0.055763\n",
              "EFA    0.046312\n",
              "HYG    0.024749\n",
              "IEF    0.016924\n",
              "IYR    0.052760\n",
              "PSP    0.062703\n",
              "QAI    0.013969\n",
              "SPY    0.041004\n",
              "TIP    0.013121\n",
              "dtype: float64"
            ]
          },
          "metadata": {}
        }
      ]
    },
    {
      "cell_type": "markdown",
      "source": [
        "######b) Max min Sharpe ratios"
      ],
      "metadata": {
        "id": "6cLEikg51OXa"
      }
    },
    {
      "cell_type": "code",
      "source": [
        "dataSharpeRatio = np.sqrt(12) * (dataExsReturns.mean(numeric_only = True) / dataExsReturns.std(numeric_only = True))\n",
        "maxSharpe = dataSharpeRatio.idxmax()\n",
        "minSharpe = dataSharpeRatio.idxmin()\n",
        "\n",
        "print(\"Below is a sorted table of all the Sharpe Ratios\")\n",
        "print(\"————————————————————————————————————————————————\")\n",
        "display(dataSharpeRatio.sort_values(axis=0, ascending=False))\n",
        "print(\"————————————————————————————————————————————————\")\n",
        "print (\"The asset with highest Sharpe ratio is \" + maxSharpe, \":\", dataSharpeRatio.max())\n",
        "print (\"The asset with lowest Sharpe ratio is \" + minSharpe, \":\", dataSharpeRatio.min())"
      ],
      "metadata": {
        "colab": {
          "base_uri": "https://localhost:8080/",
          "height": 321
        },
        "id": "hQFBwNG8o_DG",
        "outputId": "07bd8c1e-72ef-4d4a-b515-07f36d2c507a"
      },
      "execution_count": null,
      "outputs": [
        {
          "output_type": "stream",
          "name": "stdout",
          "text": [
            "Below is a sorted table of all the Sharpe Ratios\n",
            "————————————————————————————————————————————————\n"
          ]
        },
        {
          "output_type": "display_data",
          "data": {
            "text/plain": [
              "SPY    1.061189\n",
              "HYG    0.841033\n",
              "IYR    0.831048\n",
              "TIP    0.704078\n",
              "PSP    0.639657\n",
              "EFA    0.532138\n",
              "QAI    0.424667\n",
              "IEF    0.400955\n",
              "EEM    0.381770\n",
              "DBC    0.233116\n",
              "BWX    0.083525\n",
              "dtype: float64"
            ]
          },
          "metadata": {}
        },
        {
          "output_type": "stream",
          "name": "stdout",
          "text": [
            "————————————————————————————————————————————————\n",
            "The asset with highest Sharpe ratio is SPY : 1.0611888355674017\n",
            "The asset with lowest Sharpe ratio is BWX : 0.08352526973785375\n"
          ]
        }
      ]
    },
    {
      "cell_type": "markdown",
      "source": [
        "#2.2) Descriptive Analysis\n",
        "######a) correlation matrix of the returns"
      ],
      "metadata": {
        "id": "3MloZ2I3EPvf"
      }
    },
    {
      "cell_type": "code",
      "source": [
        "ExcessReturnCorr = dataExsReturns.corr()\n",
        "\n",
        "print(\"Below is the correlation matrix of the excess returns:\")\n",
        "display(ExcessReturnCorr)\n",
        "\n",
        "print(\"Below is the heatmap of the correlation matrix of the excess returns:\")\n",
        "# setting figure size \n",
        "sns.set(rc={'figure.figsize':(11.7,8.27)})\n",
        "sns.heatmap(ExcessReturnCorr)"
      ],
      "metadata": {
        "colab": {
          "base_uri": "https://localhost:8080/",
          "height": 985
        },
        "id": "g38N-K8pEGYZ",
        "outputId": "79009299-67ad-46e0-91ed-edbbf4d3ab30"
      },
      "execution_count": null,
      "outputs": [
        {
          "output_type": "stream",
          "name": "stdout",
          "text": [
            "Below is the correlation matrix of the excess returns:\n"
          ]
        },
        {
          "output_type": "display_data",
          "data": {
            "text/plain": [
              "          BWX       DBC       EEM       EFA       HYG       IEF       IYR  \\\n",
              "BWX  1.000000  0.330982  0.609331  0.559939  0.507747  0.315212  0.388627   \n",
              "DBC  0.330982  1.000000  0.560808  0.580985  0.465019 -0.413355  0.285696   \n",
              "EEM  0.609331  0.560808  1.000000  0.851916  0.746547 -0.254467  0.604353   \n",
              "EFA  0.559939  0.580985  0.851916  1.000000  0.756339 -0.310853  0.671100   \n",
              "HYG  0.507747  0.465019  0.746547  0.756339  1.000000 -0.157887  0.738514   \n",
              "IEF  0.315212 -0.413355 -0.254467 -0.310853 -0.157887  1.000000 -0.059095   \n",
              "IYR  0.388627  0.285696  0.604353  0.671100  0.738514 -0.059095  1.000000   \n",
              "PSP  0.486088  0.487789  0.797594  0.905540  0.813852 -0.301569  0.737273   \n",
              "QAI  0.624505  0.535462  0.801072  0.834043  0.750569 -0.085488  0.613673   \n",
              "SPY  0.401463  0.498145  0.746713  0.871234  0.740805 -0.328127  0.730715   \n",
              "TIP  0.551875  0.075545  0.233472  0.160054  0.235147  0.664207  0.291943   \n",
              "\n",
              "          PSP       QAI       SPY       TIP  \n",
              "BWX  0.486088  0.624505  0.401463  0.551875  \n",
              "DBC  0.487789  0.535462  0.498145  0.075545  \n",
              "EEM  0.797594  0.801072  0.746713  0.233472  \n",
              "EFA  0.905540  0.834043  0.871234  0.160054  \n",
              "HYG  0.813852  0.750569  0.740805  0.235147  \n",
              "IEF -0.301569 -0.085488 -0.328127  0.664207  \n",
              "IYR  0.737273  0.613673  0.730715  0.291943  \n",
              "PSP  1.000000  0.821420  0.898894  0.177978  \n",
              "QAI  0.821420  1.000000  0.828297  0.366972  \n",
              "SPY  0.898894  0.828297  1.000000  0.144071  \n",
              "TIP  0.177978  0.366972  0.144071  1.000000  "
            ],
            "text/html": [
              "\n",
              "  <div id=\"df-a701ccfe-88a6-4c3d-8273-de72b74c9fbb\">\n",
              "    <div class=\"colab-df-container\">\n",
              "      <div>\n",
              "<style scoped>\n",
              "    .dataframe tbody tr th:only-of-type {\n",
              "        vertical-align: middle;\n",
              "    }\n",
              "\n",
              "    .dataframe tbody tr th {\n",
              "        vertical-align: top;\n",
              "    }\n",
              "\n",
              "    .dataframe thead th {\n",
              "        text-align: right;\n",
              "    }\n",
              "</style>\n",
              "<table border=\"1\" class=\"dataframe\">\n",
              "  <thead>\n",
              "    <tr style=\"text-align: right;\">\n",
              "      <th></th>\n",
              "      <th>BWX</th>\n",
              "      <th>DBC</th>\n",
              "      <th>EEM</th>\n",
              "      <th>EFA</th>\n",
              "      <th>HYG</th>\n",
              "      <th>IEF</th>\n",
              "      <th>IYR</th>\n",
              "      <th>PSP</th>\n",
              "      <th>QAI</th>\n",
              "      <th>SPY</th>\n",
              "      <th>TIP</th>\n",
              "    </tr>\n",
              "  </thead>\n",
              "  <tbody>\n",
              "    <tr>\n",
              "      <th>BWX</th>\n",
              "      <td>1.000000</td>\n",
              "      <td>0.330982</td>\n",
              "      <td>0.609331</td>\n",
              "      <td>0.559939</td>\n",
              "      <td>0.507747</td>\n",
              "      <td>0.315212</td>\n",
              "      <td>0.388627</td>\n",
              "      <td>0.486088</td>\n",
              "      <td>0.624505</td>\n",
              "      <td>0.401463</td>\n",
              "      <td>0.551875</td>\n",
              "    </tr>\n",
              "    <tr>\n",
              "      <th>DBC</th>\n",
              "      <td>0.330982</td>\n",
              "      <td>1.000000</td>\n",
              "      <td>0.560808</td>\n",
              "      <td>0.580985</td>\n",
              "      <td>0.465019</td>\n",
              "      <td>-0.413355</td>\n",
              "      <td>0.285696</td>\n",
              "      <td>0.487789</td>\n",
              "      <td>0.535462</td>\n",
              "      <td>0.498145</td>\n",
              "      <td>0.075545</td>\n",
              "    </tr>\n",
              "    <tr>\n",
              "      <th>EEM</th>\n",
              "      <td>0.609331</td>\n",
              "      <td>0.560808</td>\n",
              "      <td>1.000000</td>\n",
              "      <td>0.851916</td>\n",
              "      <td>0.746547</td>\n",
              "      <td>-0.254467</td>\n",
              "      <td>0.604353</td>\n",
              "      <td>0.797594</td>\n",
              "      <td>0.801072</td>\n",
              "      <td>0.746713</td>\n",
              "      <td>0.233472</td>\n",
              "    </tr>\n",
              "    <tr>\n",
              "      <th>EFA</th>\n",
              "      <td>0.559939</td>\n",
              "      <td>0.580985</td>\n",
              "      <td>0.851916</td>\n",
              "      <td>1.000000</td>\n",
              "      <td>0.756339</td>\n",
              "      <td>-0.310853</td>\n",
              "      <td>0.671100</td>\n",
              "      <td>0.905540</td>\n",
              "      <td>0.834043</td>\n",
              "      <td>0.871234</td>\n",
              "      <td>0.160054</td>\n",
              "    </tr>\n",
              "    <tr>\n",
              "      <th>HYG</th>\n",
              "      <td>0.507747</td>\n",
              "      <td>0.465019</td>\n",
              "      <td>0.746547</td>\n",
              "      <td>0.756339</td>\n",
              "      <td>1.000000</td>\n",
              "      <td>-0.157887</td>\n",
              "      <td>0.738514</td>\n",
              "      <td>0.813852</td>\n",
              "      <td>0.750569</td>\n",
              "      <td>0.740805</td>\n",
              "      <td>0.235147</td>\n",
              "    </tr>\n",
              "    <tr>\n",
              "      <th>IEF</th>\n",
              "      <td>0.315212</td>\n",
              "      <td>-0.413355</td>\n",
              "      <td>-0.254467</td>\n",
              "      <td>-0.310853</td>\n",
              "      <td>-0.157887</td>\n",
              "      <td>1.000000</td>\n",
              "      <td>-0.059095</td>\n",
              "      <td>-0.301569</td>\n",
              "      <td>-0.085488</td>\n",
              "      <td>-0.328127</td>\n",
              "      <td>0.664207</td>\n",
              "    </tr>\n",
              "    <tr>\n",
              "      <th>IYR</th>\n",
              "      <td>0.388627</td>\n",
              "      <td>0.285696</td>\n",
              "      <td>0.604353</td>\n",
              "      <td>0.671100</td>\n",
              "      <td>0.738514</td>\n",
              "      <td>-0.059095</td>\n",
              "      <td>1.000000</td>\n",
              "      <td>0.737273</td>\n",
              "      <td>0.613673</td>\n",
              "      <td>0.730715</td>\n",
              "      <td>0.291943</td>\n",
              "    </tr>\n",
              "    <tr>\n",
              "      <th>PSP</th>\n",
              "      <td>0.486088</td>\n",
              "      <td>0.487789</td>\n",
              "      <td>0.797594</td>\n",
              "      <td>0.905540</td>\n",
              "      <td>0.813852</td>\n",
              "      <td>-0.301569</td>\n",
              "      <td>0.737273</td>\n",
              "      <td>1.000000</td>\n",
              "      <td>0.821420</td>\n",
              "      <td>0.898894</td>\n",
              "      <td>0.177978</td>\n",
              "    </tr>\n",
              "    <tr>\n",
              "      <th>QAI</th>\n",
              "      <td>0.624505</td>\n",
              "      <td>0.535462</td>\n",
              "      <td>0.801072</td>\n",
              "      <td>0.834043</td>\n",
              "      <td>0.750569</td>\n",
              "      <td>-0.085488</td>\n",
              "      <td>0.613673</td>\n",
              "      <td>0.821420</td>\n",
              "      <td>1.000000</td>\n",
              "      <td>0.828297</td>\n",
              "      <td>0.366972</td>\n",
              "    </tr>\n",
              "    <tr>\n",
              "      <th>SPY</th>\n",
              "      <td>0.401463</td>\n",
              "      <td>0.498145</td>\n",
              "      <td>0.746713</td>\n",
              "      <td>0.871234</td>\n",
              "      <td>0.740805</td>\n",
              "      <td>-0.328127</td>\n",
              "      <td>0.730715</td>\n",
              "      <td>0.898894</td>\n",
              "      <td>0.828297</td>\n",
              "      <td>1.000000</td>\n",
              "      <td>0.144071</td>\n",
              "    </tr>\n",
              "    <tr>\n",
              "      <th>TIP</th>\n",
              "      <td>0.551875</td>\n",
              "      <td>0.075545</td>\n",
              "      <td>0.233472</td>\n",
              "      <td>0.160054</td>\n",
              "      <td>0.235147</td>\n",
              "      <td>0.664207</td>\n",
              "      <td>0.291943</td>\n",
              "      <td>0.177978</td>\n",
              "      <td>0.366972</td>\n",
              "      <td>0.144071</td>\n",
              "      <td>1.000000</td>\n",
              "    </tr>\n",
              "  </tbody>\n",
              "</table>\n",
              "</div>\n",
              "      <button class=\"colab-df-convert\" onclick=\"convertToInteractive('df-a701ccfe-88a6-4c3d-8273-de72b74c9fbb')\"\n",
              "              title=\"Convert this dataframe to an interactive table.\"\n",
              "              style=\"display:none;\">\n",
              "        \n",
              "  <svg xmlns=\"http://www.w3.org/2000/svg\" height=\"24px\"viewBox=\"0 0 24 24\"\n",
              "       width=\"24px\">\n",
              "    <path d=\"M0 0h24v24H0V0z\" fill=\"none\"/>\n",
              "    <path d=\"M18.56 5.44l.94 2.06.94-2.06 2.06-.94-2.06-.94-.94-2.06-.94 2.06-2.06.94zm-11 1L8.5 8.5l.94-2.06 2.06-.94-2.06-.94L8.5 2.5l-.94 2.06-2.06.94zm10 10l.94 2.06.94-2.06 2.06-.94-2.06-.94-.94-2.06-.94 2.06-2.06.94z\"/><path d=\"M17.41 7.96l-1.37-1.37c-.4-.4-.92-.59-1.43-.59-.52 0-1.04.2-1.43.59L10.3 9.45l-7.72 7.72c-.78.78-.78 2.05 0 2.83L4 21.41c.39.39.9.59 1.41.59.51 0 1.02-.2 1.41-.59l7.78-7.78 2.81-2.81c.8-.78.8-2.07 0-2.86zM5.41 20L4 18.59l7.72-7.72 1.47 1.35L5.41 20z\"/>\n",
              "  </svg>\n",
              "      </button>\n",
              "      \n",
              "  <style>\n",
              "    .colab-df-container {\n",
              "      display:flex;\n",
              "      flex-wrap:wrap;\n",
              "      gap: 12px;\n",
              "    }\n",
              "\n",
              "    .colab-df-convert {\n",
              "      background-color: #E8F0FE;\n",
              "      border: none;\n",
              "      border-radius: 50%;\n",
              "      cursor: pointer;\n",
              "      display: none;\n",
              "      fill: #1967D2;\n",
              "      height: 32px;\n",
              "      padding: 0 0 0 0;\n",
              "      width: 32px;\n",
              "    }\n",
              "\n",
              "    .colab-df-convert:hover {\n",
              "      background-color: #E2EBFA;\n",
              "      box-shadow: 0px 1px 2px rgba(60, 64, 67, 0.3), 0px 1px 3px 1px rgba(60, 64, 67, 0.15);\n",
              "      fill: #174EA6;\n",
              "    }\n",
              "\n",
              "    [theme=dark] .colab-df-convert {\n",
              "      background-color: #3B4455;\n",
              "      fill: #D2E3FC;\n",
              "    }\n",
              "\n",
              "    [theme=dark] .colab-df-convert:hover {\n",
              "      background-color: #434B5C;\n",
              "      box-shadow: 0px 1px 3px 1px rgba(0, 0, 0, 0.15);\n",
              "      filter: drop-shadow(0px 1px 2px rgba(0, 0, 0, 0.3));\n",
              "      fill: #FFFFFF;\n",
              "    }\n",
              "  </style>\n",
              "\n",
              "      <script>\n",
              "        const buttonEl =\n",
              "          document.querySelector('#df-a701ccfe-88a6-4c3d-8273-de72b74c9fbb button.colab-df-convert');\n",
              "        buttonEl.style.display =\n",
              "          google.colab.kernel.accessAllowed ? 'block' : 'none';\n",
              "\n",
              "        async function convertToInteractive(key) {\n",
              "          const element = document.querySelector('#df-a701ccfe-88a6-4c3d-8273-de72b74c9fbb');\n",
              "          const dataTable =\n",
              "            await google.colab.kernel.invokeFunction('convertToInteractive',\n",
              "                                                     [key], {});\n",
              "          if (!dataTable) return;\n",
              "\n",
              "          const docLinkHtml = 'Like what you see? Visit the ' +\n",
              "            '<a target=\"_blank\" href=https://colab.research.google.com/notebooks/data_table.ipynb>data table notebook</a>'\n",
              "            + ' to learn more about interactive tables.';\n",
              "          element.innerHTML = '';\n",
              "          dataTable['output_type'] = 'display_data';\n",
              "          await google.colab.output.renderOutput(dataTable, element);\n",
              "          const docLink = document.createElement('div');\n",
              "          docLink.innerHTML = docLinkHtml;\n",
              "          element.appendChild(docLink);\n",
              "        }\n",
              "      </script>\n",
              "    </div>\n",
              "  </div>\n",
              "  "
            ]
          },
          "metadata": {}
        },
        {
          "output_type": "stream",
          "name": "stdout",
          "text": [
            "Below is the heatmap of the correlation matrix of the excess returns:\n"
          ]
        },
        {
          "output_type": "execute_result",
          "data": {
            "text/plain": [
              "<matplotlib.axes._subplots.AxesSubplot at 0x7fd0b38c0d10>"
            ]
          },
          "metadata": {},
          "execution_count": 6
        },
        {
          "output_type": "display_data",
          "data": {
            "text/plain": [
              "<Figure size 842.4x595.44 with 2 Axes>"
            ],
            "image/png": "[encoded data removed]"
          },
          "metadata": {}
        }
      ]
    },
    {
      "cell_type": "code",
      "source": [
        "# determining the magnitude of the correlations \n",
        "Pairs = ExcessReturnCorr.abs().unstack().sort_values().drop_duplicates()\n",
        "SortedCorrPairs = Pairs.iloc[:-1]\n",
        "\n",
        "# for some reason there are blanks next to SPY sometimes ????\n",
        "print (\"Asset pair correlations: \")\n",
        "display(SortedCorrPairs)\n",
        "\n",
        "maxCorr = SortedCorrPairs.idxmax()\n",
        "minCorr = SortedCorrPairs.idxmin()\n",
        "print (\"The asset pair with highest correlation: \")\n",
        "display(maxCorr)\n",
        "\n",
        "print (\"The asset pair with lowest correlation: \")\n",
        "display(minCorr)"
      ],
      "metadata": {
        "colab": {
          "base_uri": "https://localhost:8080/",
          "height": 1000
        },
        "id": "hfwd5vjOMyOa",
        "outputId": "7c2bfdc3-da54-4d31-9bf0-d7cb9340aca2"
      },
      "execution_count": null,
      "outputs": [
        {
          "output_type": "stream",
          "name": "stdout",
          "text": [
            "Asset pair correlations: \n"
          ]
        },
        {
          "output_type": "display_data",
          "data": {
            "text/plain": [
              "IYR  IEF    0.059095\n",
              "DBC  TIP    0.075545\n",
              "IEF  QAI    0.085488\n",
              "TIP  SPY    0.144071\n",
              "IEF  HYG    0.157887\n",
              "EFA  TIP    0.160054\n",
              "PSP  TIP    0.177978\n",
              "EEM  TIP    0.233472\n",
              "TIP  HYG    0.235147\n",
              "IEF  EEM    0.254467\n",
              "IYR  DBC    0.285696\n",
              "TIP  IYR    0.291943\n",
              "IEF  PSP    0.301569\n",
              "     EFA    0.310853\n",
              "BWX  IEF    0.315212\n",
              "IEF  SPY    0.328127\n",
              "DBC  BWX    0.330982\n",
              "TIP  QAI    0.366972\n",
              "IYR  BWX    0.388627\n",
              "SPY  BWX    0.401463\n",
              "IEF  DBC    0.413355\n",
              "DBC  HYG    0.465019\n",
              "PSP  BWX    0.486088\n",
              "     DBC    0.487789\n",
              "DBC  SPY    0.498145\n",
              "BWX  HYG    0.507747\n",
              "QAI  DBC    0.535462\n",
              "TIP  BWX    0.551875\n",
              "BWX  EFA    0.559939\n",
              "DBC  EEM    0.560808\n",
              "     EFA    0.580985\n",
              "EEM  IYR    0.604353\n",
              "BWX  EEM    0.609331\n",
              "QAI  IYR    0.613673\n",
              "     BWX    0.624505\n",
              "IEF  TIP    0.664207\n",
              "IYR  EFA    0.671100\n",
              "     SPY    0.730715\n",
              "PSP  IYR    0.737273\n",
              "HYG  IYR    0.738514\n",
              "SPY  HYG    0.740805\n",
              "EEM  HYG    0.746547\n",
              "SPY  EEM    0.746713\n",
              "QAI  HYG    0.750569\n",
              "HYG  EFA    0.756339\n",
              "PSP  EEM    0.797594\n",
              "QAI  EEM    0.801072\n",
              "PSP  HYG    0.813852\n",
              "QAI  PSP    0.821420\n",
              "     SPY    0.828297\n",
              "EFA  QAI    0.834043\n",
              "EEM  EFA    0.851916\n",
              "EFA  SPY    0.871234\n",
              "PSP  SPY    0.898894\n",
              "EFA  PSP    0.905540\n",
              "dtype: float64"
            ]
          },
          "metadata": {}
        },
        {
          "output_type": "stream",
          "name": "stdout",
          "text": [
            "The asset pair with highest correlation: \n"
          ]
        },
        {
          "output_type": "display_data",
          "data": {
            "text/plain": [
              "('EFA', 'PSP')"
            ]
          },
          "metadata": {}
        },
        {
          "output_type": "stream",
          "name": "stdout",
          "text": [
            "The asset pair with lowest correlation: \n"
          ]
        },
        {
          "output_type": "display_data",
          "data": {
            "text/plain": [
              "('IYR', 'IEF')"
            ]
          },
          "metadata": {}
        }
      ]
    },
    {
      "cell_type": "markdown",
      "source": [
        "######b) TIPS Performance\n",
        "Looking at the excess return table, we can note that TIPS performed the worst out of all the securities. So, it did not outperform domestic or foreign bonds."
      ],
      "metadata": {
        "id": "XwUAAeqnW6cM"
      }
    },
    {
      "cell_type": "markdown",
      "source": [
        "######c) TIPS Oppurtunity Set\n",
        "Looking at the heatmap we can note that TIPS has a fairly low covariance with the rest of the securities (minus IEF). Because it has a low covariance with so many of the securities it is safe to say that it expands the investment oppurtunity set."
      ],
      "metadata": {
        "id": "hQLRT3DdXCzf"
      }
    },
    {
      "cell_type": "markdown",
      "source": [
        "#2.3) The MV frontier \n",
        "######a) weights of the tangency portfolios "
      ],
      "metadata": {
        "id": "g36mZyowihUq"
      }
    },
    {
      "cell_type": "code",
      "source": [
        "sigma = dataExsReturns.cov()\n",
        "mu = dataExsReturns.mean()\n",
        "\n",
        "# MV solution for excess returns \n",
        "w_tan = (1/(np.transpose(np.ones(sigma.shape[0])) @ np.linalg.inv(sigma) @ mu)) * np.linalg.inv(sigma) @  mu\n",
        "display(w_tan)"
      ],
      "metadata": {
        "colab": {
          "base_uri": "https://localhost:8080/",
          "height": 126
        },
        "id": "W1y3H6lBiwaS",
        "outputId": "37107355-1dd6-4c2e-d972-f2b0ff10f724"
      },
      "execution_count": null,
      "outputs": [
        {
          "output_type": "stream",
          "name": "stderr",
          "text": [
            "/usr/local/lib/python3.7/dist-packages/ipykernel_launcher.py:2: FutureWarning: DataFrame.mean and DataFrame.median with numeric_only=None will include datetime64 and datetime64tz columns in a future version.\n",
            "  \n"
          ]
        },
        {
          "output_type": "display_data",
          "data": {
            "text/plain": [
              "array([-0.97307183,  0.19166205,  0.12836907, -0.00723276,  1.30831024,\n",
              "        2.15714398, -0.3688021 , -0.39909241, -4.33534801,  2.34853023,\n",
              "        0.94953156])"
            ]
          },
          "metadata": {}
        }
      ]
    },
    {
      "cell_type": "markdown",
      "source": [
        "######b) mean, vol, and sharpe ratio of w_tan "
      ],
      "metadata": {
        "id": "HbHEVBpLwct9"
      }
    },
    {
      "cell_type": "code",
      "source": [
        "w_tan_data =  dataExsReturns.iloc[:,1:] @ w_tan \n",
        "\n",
        "# display results \n",
        "print(\"w_tan mean returns: \", w_tan_data.mean())\n",
        "print(\"w_tan return vol: \", w_tan_data.std())\n",
        "print(\"w_tan sharpe ratio: \", np.sqrt(12) * (w_tan_data.mean() / w_tan_data.std()))"
      ],
      "metadata": {
        "colab": {
          "base_uri": "https://localhost:8080/"
        },
        "id": "8zGRnabXuVYe",
        "outputId": "e917b962-6db6-4cbc-a6db-1fbe9f52a5f5"
      },
      "execution_count": null,
      "outputs": [
        {
          "output_type": "stream",
          "name": "stdout",
          "text": [
            "w_tan mean returns:  0.028300140186685443\n",
            "w_tan return vol:  0.04771638993808107\n",
            "w_tan sharpe ratio:  2.054525949187186\n"
          ]
        }
      ]
    },
    {
      "cell_type": "markdown",
      "source": [
        "#2.4) The Allocation\n",
        "###### a) weights of MV portfolios with target returns of mu = 0.01 "
      ],
      "metadata": {
        "id": "RvofePu6yaJ4"
      }
    },
    {
      "cell_type": "code",
      "source": [
        "# 0.01 is indicated as monthly returns... roughly 0.1268 annualized \n",
        "mu_p = 0.01\n",
        "allocation = (np.transpose(np.ones(sigma.shape[0])) @ np.linalg.inv(sigma) @ mu) / (np.transpose(mu) @ np.linalg.inv(sigma) @ mu) * mu_p\n",
        "\n",
        "# multiply delta (allocation) by the tangency porfolio will give the weights of the goal portfolio \n",
        "w_p = allocation * w_tan\n",
        "w_p"
      ],
      "metadata": {
        "colab": {
          "base_uri": "https://localhost:8080/"
        },
        "id": "NHBv5E-my_Bv",
        "outputId": "f69a46ec-36c1-4282-b230-ff9b33fdd6e0"
      },
      "execution_count": null,
      "outputs": [
        {
          "output_type": "execute_result",
          "data": {
            "text/plain": [
              "array([-0.34383993,  0.06772477,  0.04535987, -0.00255573,  0.46229815,\n",
              "        0.76223791, -0.13031812, -0.14102136, -1.5319175 ,  0.82986523,\n",
              "        0.33552186])"
            ]
          },
          "metadata": {},
          "execution_count": 10
        }
      ]
    },
    {
      "cell_type": "markdown",
      "source": [
        "######b) w_p portfolio mean returns, vol, and sharpe ratio"
      ],
      "metadata": {
        "id": "Xb5XZaS84iva"
      }
    },
    {
      "cell_type": "code",
      "source": [
        "w_p_data =  dataExsReturns.iloc[:,1:] @ w_p \n",
        "\n",
        "# display results \n",
        "# note sharpe ratio stays the same as expected and the returns are almost 0.01\n",
        "print(\"w_p mean returns: \", w_p_data.mean())\n",
        "print(\"w_p return vol: \", w_p_data.std())\n",
        "print(\"w_p sharpe ratio: \", np.sqrt(12) * (w_p_data.mean() / w_p_data.std()))"
      ],
      "metadata": {
        "colab": {
          "base_uri": "https://localhost:8080/"
        },
        "id": "Wzrn1gd949Ej",
        "outputId": "d3f36177-4621-4994-9da9-22e753d95d82"
      },
      "execution_count": null,
      "outputs": [
        {
          "output_type": "stream",
          "name": "stdout",
          "text": [
            "w_p mean returns:  0.010000000000000005\n",
            "w_p return vol:  0.01686083165076706\n",
            "w_p sharpe ratio:  2.054525949187187\n"
          ]
        }
      ]
    },
    {
      "cell_type": "markdown",
      "source": [
        "######c) allocation of portfolio -- most long and short positions"
      ],
      "metadata": {
        "id": "IP1xSlEADaCg"
      }
    },
    {
      "cell_type": "code",
      "source": [
        "col = dataExsReturns.columns[1:]\n",
        "\n",
        "label_weights = pd.DataFrame(np.c_[col, w_p], columns=['Ticker', 'Weight'])\n",
        "print(\"weights of w_p: \")\n",
        "display(label_weights)\n",
        "\n",
        "print(\"__________________________________\")\n",
        "print(\"most long position: \")\n",
        "display(label_weights.max())\n",
        "\n",
        "print(\"__________________________________\")\n",
        "print(\"most short position: \")\n",
        "display(label_weights.min())\n",
        "print(\"__________________________________\")\n",
        "\n",
        "# "
      ],
      "metadata": {
        "colab": {
          "base_uri": "https://localhost:8080/",
          "height": 609
        },
        "id": "tFcLwEmmD0jY",
        "outputId": "6054b494-333c-49b0-e180-66fee31fe90b"
      },
      "execution_count": null,
      "outputs": [
        {
          "output_type": "stream",
          "name": "stdout",
          "text": [
            "weights of w_p: \n"
          ]
        },
        {
          "output_type": "display_data",
          "data": {
            "text/plain": [
              "   Ticker    Weight\n",
              "0     BWX  -0.34384\n",
              "1     DBC  0.067725\n",
              "2     EEM   0.04536\n",
              "3     EFA -0.002556\n",
              "4     HYG  0.462298\n",
              "5     IEF  0.762238\n",
              "6     IYR -0.130318\n",
              "7     PSP -0.141021\n",
              "8     QAI -1.531918\n",
              "9     SPY  0.829865\n",
              "10    TIP  0.335522"
            ],
            "text/html": [
              "\n",
              "  <div id=\"df-6ff29919-6412-487e-b3c1-96257b463801\">\n",
              "    <div class=\"colab-df-container\">\n",
              "      <div>\n",
              "<style scoped>\n",
              "    .dataframe tbody tr th:only-of-type {\n",
              "        vertical-align: middle;\n",
              "    }\n",
              "\n",
              "    .dataframe tbody tr th {\n",
              "        vertical-align: top;\n",
              "    }\n",
              "\n",
              "    .dataframe thead th {\n",
              "        text-align: right;\n",
              "    }\n",
              "</style>\n",
              "<table border=\"1\" class=\"dataframe\">\n",
              "  <thead>\n",
              "    <tr style=\"text-align: right;\">\n",
              "      <th></th>\n",
              "      <th>Ticker</th>\n",
              "      <th>Weight</th>\n",
              "    </tr>\n",
              "  </thead>\n",
              "  <tbody>\n",
              "    <tr>\n",
              "      <th>0</th>\n",
              "      <td>BWX</td>\n",
              "      <td>-0.34384</td>\n",
              "    </tr>\n",
              "    <tr>\n",
              "      <th>1</th>\n",
              "      <td>DBC</td>\n",
              "      <td>0.067725</td>\n",
              "    </tr>\n",
              "    <tr>\n",
              "      <th>2</th>\n",
              "      <td>EEM</td>\n",
              "      <td>0.04536</td>\n",
              "    </tr>\n",
              "    <tr>\n",
              "      <th>3</th>\n",
              "      <td>EFA</td>\n",
              "      <td>-0.002556</td>\n",
              "    </tr>\n",
              "    <tr>\n",
              "      <th>4</th>\n",
              "      <td>HYG</td>\n",
              "      <td>0.462298</td>\n",
              "    </tr>\n",
              "    <tr>\n",
              "      <th>5</th>\n",
              "      <td>IEF</td>\n",
              "      <td>0.762238</td>\n",
              "    </tr>\n",
              "    <tr>\n",
              "      <th>6</th>\n",
              "      <td>IYR</td>\n",
              "      <td>-0.130318</td>\n",
              "    </tr>\n",
              "    <tr>\n",
              "      <th>7</th>\n",
              "      <td>PSP</td>\n",
              "      <td>-0.141021</td>\n",
              "    </tr>\n",
              "    <tr>\n",
              "      <th>8</th>\n",
              "      <td>QAI</td>\n",
              "      <td>-1.531918</td>\n",
              "    </tr>\n",
              "    <tr>\n",
              "      <th>9</th>\n",
              "      <td>SPY</td>\n",
              "      <td>0.829865</td>\n",
              "    </tr>\n",
              "    <tr>\n",
              "      <th>10</th>\n",
              "      <td>TIP</td>\n",
              "      <td>0.335522</td>\n",
              "    </tr>\n",
              "  </tbody>\n",
              "</table>\n",
              "</div>\n",
              "      <button class=\"colab-df-convert\" onclick=\"convertToInteractive('df-6ff29919-6412-487e-b3c1-96257b463801')\"\n",
              "              title=\"Convert this dataframe to an interactive table.\"\n",
              "              style=\"display:none;\">\n",
              "        \n",
              "  <svg xmlns=\"http://www.w3.org/2000/svg\" height=\"24px\"viewBox=\"0 0 24 24\"\n",
              "       width=\"24px\">\n",
              "    <path d=\"M0 0h24v24H0V0z\" fill=\"none\"/>\n",
              "    <path d=\"M18.56 5.44l.94 2.06.94-2.06 2.06-.94-2.06-.94-.94-2.06-.94 2.06-2.06.94zm-11 1L8.5 8.5l.94-2.06 2.06-.94-2.06-.94L8.5 2.5l-.94 2.06-2.06.94zm10 10l.94 2.06.94-2.06 2.06-.94-2.06-.94-.94-2.06-.94 2.06-2.06.94z\"/><path d=\"M17.41 7.96l-1.37-1.37c-.4-.4-.92-.59-1.43-.59-.52 0-1.04.2-1.43.59L10.3 9.45l-7.72 7.72c-.78.78-.78 2.05 0 2.83L4 21.41c.39.39.9.59 1.41.59.51 0 1.02-.2 1.41-.59l7.78-7.78 2.81-2.81c.8-.78.8-2.07 0-2.86zM5.41 20L4 18.59l7.72-7.72 1.47 1.35L5.41 20z\"/>\n",
              "  </svg>\n",
              "      </button>\n",
              "      \n",
              "  <style>\n",
              "    .colab-df-container {\n",
              "      display:flex;\n",
              "      flex-wrap:wrap;\n",
              "      gap: 12px;\n",
              "    }\n",
              "\n",
              "    .colab-df-convert {\n",
              "      background-color: #E8F0FE;\n",
              "      border: none;\n",
              "      border-radius: 50%;\n",
              "      cursor: pointer;\n",
              "      display: none;\n",
              "      fill: #1967D2;\n",
              "      height: 32px;\n",
              "      padding: 0 0 0 0;\n",
              "      width: 32px;\n",
              "    }\n",
              "\n",
              "    .colab-df-convert:hover {\n",
              "      background-color: #E2EBFA;\n",
              "      box-shadow: 0px 1px 2px rgba(60, 64, 67, 0.3), 0px 1px 3px 1px rgba(60, 64, 67, 0.15);\n",
              "      fill: #174EA6;\n",
              "    }\n",
              "\n",
              "    [theme=dark] .colab-df-convert {\n",
              "      background-color: #3B4455;\n",
              "      fill: #D2E3FC;\n",
              "    }\n",
              "\n",
              "    [theme=dark] .colab-df-convert:hover {\n",
              "      background-color: #434B5C;\n",
              "      box-shadow: 0px 1px 3px 1px rgba(0, 0, 0, 0.15);\n",
              "      filter: drop-shadow(0px 1px 2px rgba(0, 0, 0, 0.3));\n",
              "      fill: #FFFFFF;\n",
              "    }\n",
              "  </style>\n",
              "\n",
              "      <script>\n",
              "        const buttonEl =\n",
              "          document.querySelector('#df-6ff29919-6412-487e-b3c1-96257b463801 button.colab-df-convert');\n",
              "        buttonEl.style.display =\n",
              "          google.colab.kernel.accessAllowed ? 'block' : 'none';\n",
              "\n",
              "        async function convertToInteractive(key) {\n",
              "          const element = document.querySelector('#df-6ff29919-6412-487e-b3c1-96257b463801');\n",
              "          const dataTable =\n",
              "            await google.colab.kernel.invokeFunction('convertToInteractive',\n",
              "                                                     [key], {});\n",
              "          if (!dataTable) return;\n",
              "\n",
              "          const docLinkHtml = 'Like what you see? Visit the ' +\n",
              "            '<a target=\"_blank\" href=https://colab.research.google.com/notebooks/data_table.ipynb>data table notebook</a>'\n",
              "            + ' to learn more about interactive tables.';\n",
              "          element.innerHTML = '';\n",
              "          dataTable['output_type'] = 'display_data';\n",
              "          await google.colab.output.renderOutput(dataTable, element);\n",
              "          const docLink = document.createElement('div');\n",
              "          docLink.innerHTML = docLinkHtml;\n",
              "          element.appendChild(docLink);\n",
              "        }\n",
              "      </script>\n",
              "    </div>\n",
              "  </div>\n",
              "  "
            ]
          },
          "metadata": {}
        },
        {
          "output_type": "stream",
          "name": "stdout",
          "text": [
            "__________________________________\n",
            "most long position: \n"
          ]
        },
        {
          "output_type": "display_data",
          "data": {
            "text/plain": [
              "Ticker         TIP\n",
              "Weight    0.829865\n",
              "dtype: object"
            ]
          },
          "metadata": {}
        },
        {
          "output_type": "stream",
          "name": "stdout",
          "text": [
            "__________________________________\n",
            "most short position: \n"
          ]
        },
        {
          "output_type": "display_data",
          "data": {
            "text/plain": [
              "Ticker         BWX\n",
              "Weight   -1.531918\n",
              "dtype: object"
            ]
          },
          "metadata": {}
        },
        {
          "output_type": "stream",
          "name": "stdout",
          "text": [
            "__________________________________\n"
          ]
        }
      ]
    },
    {
      "cell_type": "markdown",
      "source": [
        "######d) allocation of portfolio -- most long and short positions"
      ],
      "metadata": {
        "id": "qwW_dgsxJuNe"
      }
    },
    {
      "cell_type": "code",
      "source": [
        "# not only do the assests that have the greatest weight not line up with those with the highest ratio, the\n",
        "# assest with the most shorted postion -- BWX -- has the lowest sharpe ratio. Additionally the TIP, the asset \n",
        "# with the most weight placed on a long position has a Sharpe ratio of roughly ~ 0.7 which is only the 5th best\n",
        "print(\"The asset with the greatest Sharpe ratio does not have the most long position.\")\n",
        "print(\"Instead, TIP has the most long position despite having a Sharpe ratio of roughly\")\n",
        "print(\".7 and coming in around 4th overall.\")\n",
        "print(\"However, the asset with the lowets Sharpe ratio, BWX, did in \")\n",
        "print(\"fact have the shortest position.\")\n"
      ],
      "metadata": {
        "id": "7R6SiyofIIH3",
        "colab": {
          "base_uri": "https://localhost:8080/"
        },
        "outputId": "eccb662f-eccf-47d0-d996-09251bc79a09"
      },
      "execution_count": 1,
      "outputs": [
        {
          "output_type": "stream",
          "name": "stdout",
          "text": [
            "The asset with the greatest Sharpe ratio does not have the most long position.\n",
            "Instead, TIP has the most long position despite having a Sharpe ratio of roughly\n",
            ".7 and coming in around 4th overall.\n",
            "However, the asset with the lowets Sharpe ratio, BWX, did in \n",
            "fact have the shortest position.\n"
          ]
        }
      ]
    },
    {
      "cell_type": "markdown",
      "source": [
        "#2.5) Simple Portfolios \n",
        "######a) equally weighted portfolio \n"
      ],
      "metadata": {
        "id": "0im4dM10K0hI"
      }
    },
    {
      "cell_type": "code",
      "source": [
        "# establish all weights as equal and equal to 1/11\n",
        "w_equal = np.full((11, 1), 1/11)\n",
        "\n",
        "# Below we are using .12 for our scaling factor because it\n",
        "# is .01 monthly, so over the year it will be .12\n",
        "mu_vec = mu.to_numpy()\n",
        "\n",
        "# numpy dot product is kindof annoying, throws a fuss with dimensions\n",
        "# even though dot product should be commutative\n",
        "w_scaling_factor = .12 / np.dot(mu_vec.transpose(), w_equal)\n",
        "\n",
        "w_scaled = w_equal * w_scaling_factor\n",
        "\n",
        "w_equal_data = dataExsReturns.iloc[:,1:] @ w_scaled\n",
        "\n",
        "print(\"w_p mean returns: \", w_equal_data.mean())\n",
        "print(\"w_p return vol: \", w_equal_data.std())\n",
        "print(\"w_p sharpe ratio: \", np.sqrt(12) * (w_equal_data.mean() / w_equal_data.std()))\n"
      ],
      "metadata": {
        "colab": {
          "base_uri": "https://localhost:8080/"
        },
        "id": "qQh2EidnMNuP",
        "outputId": "ffb590df-22cf-479d-d6ec-2f10766899f3"
      },
      "execution_count": null,
      "outputs": [
        {
          "output_type": "stream",
          "name": "stdout",
          "text": [
            "w_p mean returns:  0    0.12\n",
            "dtype: float64\n",
            "w_p return vol:  0    0.563427\n",
            "dtype: float64\n",
            "w_p sharpe ratio:  0    0.737792\n",
            "dtype: float64\n"
          ]
        }
      ]
    },
    {
      "cell_type": "markdown",
      "source": [
        "######b) risk parity portfolio over the sample "
      ],
      "metadata": {
        "id": "pnHowC7mQVKd"
      }
    },
    {
      "cell_type": "code",
      "source": [
        "vol = dataExsReturns.std(numeric_only = True)\n",
        "w_riskparity = np.empty([11, 1])\n",
        "\n",
        "# determine unscaled weights \n",
        "for i in range(len(vol)):\n",
        "    w_i = 1/vol[i]\n",
        "    w_riskparity[i] = w_i * (1 / np.sqrt(12)) # Adding annualization factor\n",
        "\n",
        "\n",
        "\n",
        "# Similarly to above, we scale by a factor of .12\n",
        "\n",
        "w_risk_scaling_factor = .12 / np.dot(mu_vec.transpose(), w_riskparity)\n",
        "\n",
        "w_risk_scaled = w_riskparity * w_risk_scaling_factor\n",
        "\n",
        "w_risk_data = dataExsReturns.iloc[:,1:] @ w_risk_scaled\n",
        "\n",
        "print(\"w_p mean returns: \", w_risk_data.mean())\n",
        "print(\"w_p return vol: \", w_risk_data.std())\n",
        "print(\"w_p sharpe ratio: \", np.sqrt(12) * (w_risk_data.mean() / w_risk_data.std()))\n",
        "\n",
        "\n",
        "\n",
        "# scaling factor \n",
        "#delta = (np.transpose(np.ones(sigma.shape[0])) @ np.linalg.inv(sigma) @ mu) / (np.transpose(mu) @ np.linalg.inv(sigma) @ mu) * mu_p\n",
        "\n",
        "# w_riskparity_scaled = w_riskparity * delta\n",
        "\n",
        "# w_riskparity_scaled\n",
        "\n",
        "\n"
      ],
      "metadata": {
        "colab": {
          "base_uri": "https://localhost:8080/"
        },
        "id": "HW830gEPQfIQ",
        "outputId": "be527e7e-2fb7-4d96-d3ba-067376a95858"
      },
      "execution_count": null,
      "outputs": [
        {
          "output_type": "stream",
          "name": "stdout",
          "text": [
            "w_p mean returns:  0    0.12\n",
            "dtype: float64\n",
            "w_p return vol:  0    0.528393\n",
            "dtype: float64\n",
            "w_p sharpe ratio:  0    0.78671\n",
            "dtype: float64\n"
          ]
        }
      ]
    },
    {
      "cell_type": "markdown",
      "source": [
        "######c) \n",
        "\n",
        "Compared to the MV portfolio that we did in problem 2.4 this portfolio has a lower Sharpe ratio and a higher volatility for comparable mean returns. This seems to imply that the MV portfolio is a better allocation of weights."
      ],
      "metadata": {
        "id": "M76D7kxKmLpR"
      }
    },
    {
      "cell_type": "markdown",
      "source": [
        "#2.6) Out-of-Sample Performance \n",
        "######a)  data through the end of 2020\n"
      ],
      "metadata": {
        "id": "vm9CuF_lQNyx"
      }
    },
    {
      "cell_type": "code",
      "source": [
        "data_2020 = dataExsReturns.iloc[0:141,1:]\n",
        "sigma_2020 = data_2020.cov()\n",
        "mu_2020 = data_2020.mean()\n",
        "\n",
        "# MV solution for excess returns \n",
        "w_tan_2020 = (1/(np.transpose(np.ones(sigma_2020.shape[0])) @ np.linalg.inv(sigma_2020) @ mu_2020)) * np.linalg.inv(sigma_2020) @  mu_2020\n",
        "\n",
        "# 0.01 is indicated as monthly returns... roughly 0.1268 annualized \n",
        "mu_p = 0.01\n",
        "allocation = (np.transpose(np.ones(sigma_2020.shape[0])) @ np.linalg.inv(sigma_2020) @ mu_2020) / (np.transpose(mu_2020) @ np.linalg.inv(sigma_2020) @ mu_2020) * mu_p\n",
        "\n",
        "# multiply delta (allocation) by the tangency porfolio will give the weights of the goal portfolio \n",
        "w_p_2020 = allocation * w_tan_2020\n",
        "w_p_2020"
      ],
      "metadata": {
        "id": "prQvnNjCQhSP",
        "colab": {
          "base_uri": "https://localhost:8080/"
        },
        "outputId": "251ec4c6-d910-425a-b507-a7dacb6a701e"
      },
      "execution_count": null,
      "outputs": [
        {
          "output_type": "stream",
          "name": "stderr",
          "text": [
            "/usr/local/lib/python3.7/dist-packages/ipykernel_launcher.py:3: FutureWarning: DataFrame.mean and DataFrame.median with numeric_only=None will include datetime64 and datetime64tz columns in a future version.\n",
            "  This is separate from the ipykernel package so we can avoid doing imports until\n"
          ]
        },
        {
          "output_type": "execute_result",
          "data": {
            "text/plain": [
              "array([-0.03901473, -0.07083471,  0.02714322, -0.07618842,  0.4614215 ,\n",
              "        0.84479175, -0.20901099, -0.02483997, -1.19775888,  0.78542697,\n",
              "        0.0568802 ])"
            ]
          },
          "metadata": {},
          "execution_count": 18
        }
      ]
    },
    {
      "cell_type": "markdown",
      "source": [
        "######b)"
      ],
      "metadata": {
        "id": "1zJ--se-a4Sn"
      }
    },
    {
      "cell_type": "code",
      "source": [
        "w_p_data_2021 = dataExsReturns.iloc[:, 1:152] @ w_p_2020\n",
        "\n",
        "print(\"w_p mean returns: \", w_p_data_2021.mean())\n",
        "print(\"w_p return vol: \", w_p_data_2021.std())\n",
        "print(\"w_p sharpe ratio: \", np.sqrt(12) * (w_p_data_2021.mean() / w_p_data_2021.std()))"
      ],
      "metadata": {
        "id": "K-VMrWFYa6Pj",
        "colab": {
          "base_uri": "https://localhost:8080/"
        },
        "outputId": "dd545a09-7a2e-49a1-e1cf-6bcd481e85a5"
      },
      "execution_count": null,
      "outputs": [
        {
          "output_type": "stream",
          "name": "stdout",
          "text": [
            "w_p mean returns:  0.008815514192511248\n",
            "w_p return vol:  0.017251289343265\n",
            "w_p sharpe ratio:  1.7701770774872638\n"
          ]
        }
      ]
    },
    {
      "cell_type": "markdown",
      "source": [
        "######c) Out of sample 2022 performance"
      ],
      "metadata": {
        "id": "mba7xwandU_O"
      }
    },
    {
      "cell_type": "code",
      "source": [
        "w_p_data_2022 = dataExsReturns.iloc[153:,1:] @ w_p_2020\n",
        "\n",
        "# display results \n",
        "# note sharpe ratio stays the same as expected and the returns are almost 0.01\n",
        "print(\"w_p_2022 mean returns: \", w_p_data_2022.mean())\n",
        "print(\"w_p_2022 return vol: \", w_p_data_2022.std())\n",
        "print(\"w_p_2022 sharpe ratio: \", np.sqrt(12) * (w_p_data_2022.mean() / w_p_data_2022.std()))"
      ],
      "metadata": {
        "colab": {
          "base_uri": "https://localhost:8080/"
        },
        "id": "uChm8-sgb0vV",
        "outputId": "200940de-6afd-4727-dbb2-8aa8472e490f"
      },
      "execution_count": null,
      "outputs": [
        {
          "output_type": "stream",
          "name": "stdout",
          "text": [
            "w_p_2022 mean returns:  -0.021549422363477323\n",
            "w_p_2022 return vol:  0.0379784219142738\n",
            "w_p_2022 sharpe ratio:  -1.9655737403494173\n"
          ]
        }
      ]
    }
  ]
}
