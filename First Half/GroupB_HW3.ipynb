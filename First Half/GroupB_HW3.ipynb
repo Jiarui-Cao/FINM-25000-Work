{
 "cells": [
  {
   "cell_type": "code",
   "execution_count": 87,
   "id": "b7ccecb8",
   "metadata": {},
   "outputs": [],
   "source": [
    "import pandas as pd\n",
    "pd.options.display.float_format = '{:.3f}'.format\n",
    "import numpy as np\n",
    "import seaborn as sns\n",
    "import matplotlib.pyplot as plt\n",
    "import statsmodels.api as sm\n",
    "from sklearn.linear_model import LinearRegression\n",
    "\n",
    "\n",
    "factors = pd.read_excel('factor_pricing_data.xlsx', 'factors (excess)').set_index(\"Date\")\n",
    "assets = pd.read_excel('factor_pricing_data.xlsx', 'assets (excess)').set_index(\"Date\")\n"
   ]
  },
  {
   "cell_type": "code",
   "execution_count": 88,
   "id": "e8891b62",
   "metadata": {
    "scrolled": false
   },
   "outputs": [
    {
     "name": "stdout",
     "output_type": "stream",
     "text": [
      "*** Factor Data ***\n"
     ]
    },
    {
     "data": {
      "text/html": [
       "<div>\n",
       "<style scoped>\n",
       "    .dataframe tbody tr th:only-of-type {\n",
       "        vertical-align: middle;\n",
       "    }\n",
       "\n",
       "    .dataframe tbody tr th {\n",
       "        vertical-align: top;\n",
       "    }\n",
       "\n",
       "    .dataframe thead th {\n",
       "        text-align: right;\n",
       "    }\n",
       "</style>\n",
       "<table border=\"1\" class=\"dataframe\">\n",
       "  <thead>\n",
       "    <tr style=\"text-align: right;\">\n",
       "      <th></th>\n",
       "      <th>MKT</th>\n",
       "      <th>SMB</th>\n",
       "      <th>HML</th>\n",
       "      <th>UMD</th>\n",
       "    </tr>\n",
       "    <tr>\n",
       "      <th>Date</th>\n",
       "      <th></th>\n",
       "      <th></th>\n",
       "      <th></th>\n",
       "      <th></th>\n",
       "    </tr>\n",
       "  </thead>\n",
       "  <tbody>\n",
       "    <tr>\n",
       "      <th>1990-01-31</th>\n",
       "      <td>-0.079</td>\n",
       "      <td>-0.013</td>\n",
       "      <td>0.009</td>\n",
       "      <td>-0.033</td>\n",
       "    </tr>\n",
       "    <tr>\n",
       "      <th>1990-02-28</th>\n",
       "      <td>0.011</td>\n",
       "      <td>0.010</td>\n",
       "      <td>0.006</td>\n",
       "      <td>-0.005</td>\n",
       "    </tr>\n",
       "    <tr>\n",
       "      <th>1990-03-31</th>\n",
       "      <td>0.018</td>\n",
       "      <td>0.015</td>\n",
       "      <td>-0.029</td>\n",
       "      <td>0.018</td>\n",
       "    </tr>\n",
       "    <tr>\n",
       "      <th>1990-04-30</th>\n",
       "      <td>-0.034</td>\n",
       "      <td>-0.005</td>\n",
       "      <td>-0.026</td>\n",
       "      <td>0.024</td>\n",
       "    </tr>\n",
       "    <tr>\n",
       "      <th>1990-05-31</th>\n",
       "      <td>0.084</td>\n",
       "      <td>-0.026</td>\n",
       "      <td>-0.038</td>\n",
       "      <td>0.030</td>\n",
       "    </tr>\n",
       "  </tbody>\n",
       "</table>\n",
       "</div>"
      ],
      "text/plain": [
       "              MKT    SMB    HML    UMD\n",
       "Date                                  \n",
       "1990-01-31 -0.079 -0.013  0.009 -0.033\n",
       "1990-02-28  0.011  0.010  0.006 -0.005\n",
       "1990-03-31  0.018  0.015 -0.029  0.018\n",
       "1990-04-30 -0.034 -0.005 -0.026  0.024\n",
       "1990-05-31  0.084 -0.026 -0.038  0.030"
      ]
     },
     "metadata": {},
     "output_type": "display_data"
    },
    {
     "name": "stdout",
     "output_type": "stream",
     "text": [
      " \n",
      "*** Portfolio Data ***\n"
     ]
    },
    {
     "data": {
      "text/html": [
       "<div>\n",
       "<style scoped>\n",
       "    .dataframe tbody tr th:only-of-type {\n",
       "        vertical-align: middle;\n",
       "    }\n",
       "\n",
       "    .dataframe tbody tr th {\n",
       "        vertical-align: top;\n",
       "    }\n",
       "\n",
       "    .dataframe thead th {\n",
       "        text-align: right;\n",
       "    }\n",
       "</style>\n",
       "<table border=\"1\" class=\"dataframe\">\n",
       "  <thead>\n",
       "    <tr style=\"text-align: right;\">\n",
       "      <th></th>\n",
       "      <th>NoDur</th>\n",
       "      <th>Durbl</th>\n",
       "      <th>Manuf</th>\n",
       "      <th>Enrgy</th>\n",
       "      <th>Chems</th>\n",
       "      <th>BusEq</th>\n",
       "      <th>Telcm</th>\n",
       "      <th>Utils</th>\n",
       "      <th>Shops</th>\n",
       "      <th>Hlth</th>\n",
       "      <th>Money</th>\n",
       "      <th>Other</th>\n",
       "    </tr>\n",
       "    <tr>\n",
       "      <th>Date</th>\n",
       "      <th></th>\n",
       "      <th></th>\n",
       "      <th></th>\n",
       "      <th></th>\n",
       "      <th></th>\n",
       "      <th></th>\n",
       "      <th></th>\n",
       "      <th></th>\n",
       "      <th></th>\n",
       "      <th></th>\n",
       "      <th></th>\n",
       "      <th></th>\n",
       "    </tr>\n",
       "  </thead>\n",
       "  <tbody>\n",
       "    <tr>\n",
       "      <th>1990-01-31</th>\n",
       "      <td>-0.100</td>\n",
       "      <td>-0.044</td>\n",
       "      <td>-0.062</td>\n",
       "      <td>-0.049</td>\n",
       "      <td>-0.086</td>\n",
       "      <td>-0.018</td>\n",
       "      <td>-0.140</td>\n",
       "      <td>-0.059</td>\n",
       "      <td>-0.070</td>\n",
       "      <td>-0.079</td>\n",
       "      <td>-0.103</td>\n",
       "      <td>-0.079</td>\n",
       "    </tr>\n",
       "    <tr>\n",
       "      <th>1990-02-28</th>\n",
       "      <td>-0.010</td>\n",
       "      <td>0.046</td>\n",
       "      <td>0.021</td>\n",
       "      <td>0.025</td>\n",
       "      <td>0.016</td>\n",
       "      <td>0.035</td>\n",
       "      <td>-0.009</td>\n",
       "      <td>-0.004</td>\n",
       "      <td>0.014</td>\n",
       "      <td>-0.026</td>\n",
       "      <td>0.018</td>\n",
       "      <td>0.024</td>\n",
       "    </tr>\n",
       "    <tr>\n",
       "      <th>1990-03-31</th>\n",
       "      <td>0.039</td>\n",
       "      <td>0.023</td>\n",
       "      <td>0.040</td>\n",
       "      <td>-0.012</td>\n",
       "      <td>0.016</td>\n",
       "      <td>0.038</td>\n",
       "      <td>0.035</td>\n",
       "      <td>-0.014</td>\n",
       "      <td>0.045</td>\n",
       "      <td>0.032</td>\n",
       "      <td>-0.022</td>\n",
       "      <td>0.013</td>\n",
       "    </tr>\n",
       "    <tr>\n",
       "      <th>1990-04-30</th>\n",
       "      <td>-0.010</td>\n",
       "      <td>-0.047</td>\n",
       "      <td>-0.036</td>\n",
       "      <td>-0.042</td>\n",
       "      <td>-0.029</td>\n",
       "      <td>-0.027</td>\n",
       "      <td>-0.042</td>\n",
       "      <td>-0.062</td>\n",
       "      <td>-0.028</td>\n",
       "      <td>-0.004</td>\n",
       "      <td>-0.049</td>\n",
       "      <td>-0.029</td>\n",
       "    </tr>\n",
       "    <tr>\n",
       "      <th>1990-05-31</th>\n",
       "      <td>0.084</td>\n",
       "      <td>0.071</td>\n",
       "      <td>0.071</td>\n",
       "      <td>0.053</td>\n",
       "      <td>0.082</td>\n",
       "      <td>0.119</td>\n",
       "      <td>0.087</td>\n",
       "      <td>0.047</td>\n",
       "      <td>0.110</td>\n",
       "      <td>0.121</td>\n",
       "      <td>0.086</td>\n",
       "      <td>0.082</td>\n",
       "    </tr>\n",
       "  </tbody>\n",
       "</table>\n",
       "</div>"
      ],
      "text/plain": [
       "            NoDur  Durbl  Manuf  Enrgy  Chems  BusEq  Telcm  Utils  Shops  \\\n",
       "Date                                                                        \n",
       "1990-01-31 -0.100 -0.044 -0.062 -0.049 -0.086 -0.018 -0.140 -0.059 -0.070   \n",
       "1990-02-28 -0.010  0.046  0.021  0.025  0.016  0.035 -0.009 -0.004  0.014   \n",
       "1990-03-31  0.039  0.023  0.040 -0.012  0.016  0.038  0.035 -0.014  0.045   \n",
       "1990-04-30 -0.010 -0.047 -0.036 -0.042 -0.029 -0.027 -0.042 -0.062 -0.028   \n",
       "1990-05-31  0.084  0.071  0.071  0.053  0.082  0.119  0.087  0.047  0.110   \n",
       "\n",
       "             Hlth  Money  Other  \n",
       "Date                             \n",
       "1990-01-31 -0.079 -0.103 -0.079  \n",
       "1990-02-28 -0.026  0.018  0.024  \n",
       "1990-03-31  0.032 -0.022  0.013  \n",
       "1990-04-30 -0.004 -0.049 -0.029  \n",
       "1990-05-31  0.121  0.086  0.082  "
      ]
     },
     "metadata": {},
     "output_type": "display_data"
    }
   ],
   "source": [
    "print('*** Factor Data ***')\n",
    "display(factors.head())\n",
    "print(' ')\n",
    "print('*** Portfolio Data ***')\n",
    "display(assets.head())\n"
   ]
  },
  {
   "cell_type": "markdown",
   "id": "bf1fad43",
   "metadata": {},
   "source": [
    "# 2 Pricing Factors and Assets"
   ]
  },
  {
   "cell_type": "markdown",
   "id": "232bf4ab",
   "metadata": {},
   "source": [
    "1. The Factors. Calculate their univariate performance statistics:\n",
    "\n",
    "\n",
    "• mean\n",
    "\n",
    "• volatility\n",
    "\n",
    "• Sharpe\n",
    "\n",
    "• VaR(.05)\n",
    "\n",
    "\n",
    "Does each factor have a premium (positive expected excess return)"
   ]
  },
  {
   "cell_type": "code",
   "execution_count": 100,
   "id": "1b29a721",
   "metadata": {},
   "outputs": [
    {
     "name": "stdout",
     "output_type": "stream",
     "text": [
      "Annualized:\n"
     ]
    },
    {
     "data": {
      "text/html": [
       "<style type=\"text/css\">\n",
       "</style>\n",
       "<table id=\"T_fc447\">\n",
       "  <thead>\n",
       "    <tr>\n",
       "      <th class=\"blank level0\" >&nbsp;</th>\n",
       "      <th id=\"T_fc447_level0_col0\" class=\"col_heading level0 col0\" >Ann Mean</th>\n",
       "      <th id=\"T_fc447_level0_col1\" class=\"col_heading level0 col1\" >Ann Vol</th>\n",
       "      <th id=\"T_fc447_level0_col2\" class=\"col_heading level0 col2\" >Ann Sharpe</th>\n",
       "      <th id=\"T_fc447_level0_col3\" class=\"col_heading level0 col3\" >VaR(.05)</th>\n",
       "    </tr>\n",
       "  </thead>\n",
       "  <tbody>\n",
       "    <tr>\n",
       "      <th id=\"T_fc447_level0_row0\" class=\"row_heading level0 row0\" >MKT</th>\n",
       "      <td id=\"T_fc447_row0_col0\" class=\"data row0 col0\" >0.084331</td>\n",
       "      <td id=\"T_fc447_row0_col1\" class=\"data row0 col1\" >0.151860</td>\n",
       "      <td id=\"T_fc447_row0_col2\" class=\"data row0 col2\" >1.923687</td>\n",
       "      <td id=\"T_fc447_row0_col3\" class=\"data row0 col3\" >-0.076485</td>\n",
       "    </tr>\n",
       "    <tr>\n",
       "      <th id=\"T_fc447_level0_row1\" class=\"row_heading level0 row1\" >SMB</th>\n",
       "      <td id=\"T_fc447_row1_col0\" class=\"data row1 col0\" >0.012124</td>\n",
       "      <td id=\"T_fc447_row1_col1\" class=\"data row1 col1\" >0.109577</td>\n",
       "      <td id=\"T_fc447_row1_col2\" class=\"data row1 col2\" >0.383270</td>\n",
       "      <td id=\"T_fc447_row1_col3\" class=\"data row1 col3\" >-0.042925</td>\n",
       "    </tr>\n",
       "    <tr>\n",
       "      <th id=\"T_fc447_level0_row2\" class=\"row_heading level0 row2\" >HML</th>\n",
       "      <td id=\"T_fc447_row2_col0\" class=\"data row2 col0\" >0.018235</td>\n",
       "      <td id=\"T_fc447_row2_col1\" class=\"data row2 col1\" >0.111001</td>\n",
       "      <td id=\"T_fc447_row2_col2\" class=\"data row2 col2\" >0.569079</td>\n",
       "      <td id=\"T_fc447_row2_col3\" class=\"data row2 col3\" >-0.041590</td>\n",
       "    </tr>\n",
       "    <tr>\n",
       "      <th id=\"T_fc447_level0_row3\" class=\"row_heading level0 row3\" >UMD</th>\n",
       "      <td id=\"T_fc447_row3_col0\" class=\"data row3 col0\" >0.057374</td>\n",
       "      <td id=\"T_fc447_row3_col1\" class=\"data row3 col1\" >0.163416</td>\n",
       "      <td id=\"T_fc447_row3_col2\" class=\"data row3 col2\" >1.216226</td>\n",
       "      <td id=\"T_fc447_row3_col3\" class=\"data row3 col3\" >-0.071160</td>\n",
       "    </tr>\n",
       "  </tbody>\n",
       "</table>\n"
      ],
      "text/plain": [
       "<pandas.io.formats.style.Styler at 0x7fab3a35d520>"
      ]
     },
     "execution_count": 100,
     "metadata": {},
     "output_type": "execute_result"
    }
   ],
   "source": [
    "\n",
    "\n",
    "factors_ann_mean = factors.mean(axis=0, numeric_only=True) * 12\n",
    "factors_ann_vol = factors.std(axis=0, numeric_only=True) * np.sqrt(12)\n",
    "factors_ann_sharpe = factors_ann_mean / factors_ann_vol * np.sqrt(12)\n",
    "factors_VaR = factors.quantile(0.05)\n",
    "\n",
    "print (\"Annualized:\")\n",
    "factors_ann_sum_stats = pd.DataFrame({'Ann Mean': factors_ann_mean, 'Ann Vol': factors_ann_vol, 'Ann Sharpe' : factors_ann_sharpe, 'VaR(.05)': factors_VaR})\n",
    "factors_ann_sum_stats.style\n",
    "\n"
   ]
  },
  {
   "cell_type": "code",
   "execution_count": 90,
   "id": "dc27ce29",
   "metadata": {},
   "outputs": [
    {
     "name": "stdout",
     "output_type": "stream",
     "text": [
      "Non-annualized:\n"
     ]
    },
    {
     "data": {
      "text/html": [
       "<style type=\"text/css\">\n",
       "</style>\n",
       "<table id=\"T_36978\">\n",
       "  <thead>\n",
       "    <tr>\n",
       "      <th class=\"blank level0\" >&nbsp;</th>\n",
       "      <th id=\"T_36978_level0_col0\" class=\"col_heading level0 col0\" >Mean</th>\n",
       "      <th id=\"T_36978_level0_col1\" class=\"col_heading level0 col1\" >Vol</th>\n",
       "      <th id=\"T_36978_level0_col2\" class=\"col_heading level0 col2\" >Sharpe</th>\n",
       "      <th id=\"T_36978_level0_col3\" class=\"col_heading level0 col3\" >VaR(.05)</th>\n",
       "    </tr>\n",
       "  </thead>\n",
       "  <tbody>\n",
       "    <tr>\n",
       "      <th id=\"T_36978_level0_row0\" class=\"row_heading level0 row0\" >MKT</th>\n",
       "      <td id=\"T_36978_row0_col0\" class=\"data row0 col0\" >0.007028</td>\n",
       "      <td id=\"T_36978_row0_col1\" class=\"data row0 col1\" >0.043838</td>\n",
       "      <td id=\"T_36978_row0_col2\" class=\"data row0 col2\" >0.160307</td>\n",
       "      <td id=\"T_36978_row0_col3\" class=\"data row0 col3\" >-0.076485</td>\n",
       "    </tr>\n",
       "    <tr>\n",
       "      <th id=\"T_36978_level0_row1\" class=\"row_heading level0 row1\" >SMB</th>\n",
       "      <td id=\"T_36978_row1_col0\" class=\"data row1 col0\" >0.001010</td>\n",
       "      <td id=\"T_36978_row1_col1\" class=\"data row1 col1\" >0.031632</td>\n",
       "      <td id=\"T_36978_row1_col2\" class=\"data row1 col2\" >0.031939</td>\n",
       "      <td id=\"T_36978_row1_col3\" class=\"data row1 col3\" >-0.042925</td>\n",
       "    </tr>\n",
       "    <tr>\n",
       "      <th id=\"T_36978_level0_row2\" class=\"row_heading level0 row2\" >HML</th>\n",
       "      <td id=\"T_36978_row2_col0\" class=\"data row2 col0\" >0.001520</td>\n",
       "      <td id=\"T_36978_row2_col1\" class=\"data row2 col1\" >0.032043</td>\n",
       "      <td id=\"T_36978_row2_col2\" class=\"data row2 col2\" >0.047423</td>\n",
       "      <td id=\"T_36978_row2_col3\" class=\"data row2 col3\" >-0.041590</td>\n",
       "    </tr>\n",
       "    <tr>\n",
       "      <th id=\"T_36978_level0_row3\" class=\"row_heading level0 row3\" >UMD</th>\n",
       "      <td id=\"T_36978_row3_col0\" class=\"data row3 col0\" >0.004781</td>\n",
       "      <td id=\"T_36978_row3_col1\" class=\"data row3 col1\" >0.047174</td>\n",
       "      <td id=\"T_36978_row3_col2\" class=\"data row3 col2\" >0.101352</td>\n",
       "      <td id=\"T_36978_row3_col3\" class=\"data row3 col3\" >-0.071160</td>\n",
       "    </tr>\n",
       "  </tbody>\n",
       "</table>\n"
      ],
      "text/plain": [
       "<pandas.io.formats.style.Styler at 0x7fab384f4f10>"
      ]
     },
     "execution_count": 90,
     "metadata": {},
     "output_type": "execute_result"
    }
   ],
   "source": [
    "\n",
    "factors_mean = factors.mean(axis=0, numeric_only=True)\n",
    "factors_vol = factors.std(axis=0, numeric_only=True) \n",
    "factors_sharpe = factors_mean / factors_vol \n",
    "\n",
    "print (\"Non-annualized:\")\n",
    "factors_sum_stats = pd.DataFrame({'Mean': factors_mean, 'Vol': factors_vol, 'Sharpe' : factors_sharpe, 'VaR(.05)': factors_VaR})\n",
    "factors_sum_stats.style"
   ]
  },
  {
   "cell_type": "markdown",
   "id": "4c447d84",
   "metadata": {},
   "source": [
    "Yes, each factor has a premium because each of their means is positive."
   ]
  },
  {
   "cell_type": "markdown",
   "id": "e5a89a66",
   "metadata": {},
   "source": [
    "2. The factors are constructed in such a way as to reduce correlation between them.\n",
    "Report the correlation matrix across the three factors. Does the construction method succeed\n",
    "in keeping correlations small?"
   ]
  },
  {
   "cell_type": "code",
   "execution_count": 91,
   "id": "35cd4ebd",
   "metadata": {},
   "outputs": [
    {
     "name": "stdout",
     "output_type": "stream",
     "text": [
      "**** Correlation Matrix ****\n"
     ]
    },
    {
     "data": {
      "text/html": [
       "<div>\n",
       "<style scoped>\n",
       "    .dataframe tbody tr th:only-of-type {\n",
       "        vertical-align: middle;\n",
       "    }\n",
       "\n",
       "    .dataframe tbody tr th {\n",
       "        vertical-align: top;\n",
       "    }\n",
       "\n",
       "    .dataframe thead th {\n",
       "        text-align: right;\n",
       "    }\n",
       "</style>\n",
       "<table border=\"1\" class=\"dataframe\">\n",
       "  <thead>\n",
       "    <tr style=\"text-align: right;\">\n",
       "      <th></th>\n",
       "      <th>MKT</th>\n",
       "      <th>SMB</th>\n",
       "      <th>HML</th>\n",
       "      <th>UMD</th>\n",
       "    </tr>\n",
       "  </thead>\n",
       "  <tbody>\n",
       "    <tr>\n",
       "      <th>MKT</th>\n",
       "      <td>1.000</td>\n",
       "      <td>0.242</td>\n",
       "      <td>-0.132</td>\n",
       "      <td>-0.280</td>\n",
       "    </tr>\n",
       "    <tr>\n",
       "      <th>SMB</th>\n",
       "      <td>0.242</td>\n",
       "      <td>1.000</td>\n",
       "      <td>-0.221</td>\n",
       "      <td>0.007</td>\n",
       "    </tr>\n",
       "    <tr>\n",
       "      <th>HML</th>\n",
       "      <td>-0.132</td>\n",
       "      <td>-0.221</td>\n",
       "      <td>1.000</td>\n",
       "      <td>-0.230</td>\n",
       "    </tr>\n",
       "    <tr>\n",
       "      <th>UMD</th>\n",
       "      <td>-0.280</td>\n",
       "      <td>0.007</td>\n",
       "      <td>-0.230</td>\n",
       "      <td>1.000</td>\n",
       "    </tr>\n",
       "  </tbody>\n",
       "</table>\n",
       "</div>"
      ],
      "text/plain": [
       "       MKT    SMB    HML    UMD\n",
       "MKT  1.000  0.242 -0.132 -0.280\n",
       "SMB  0.242  1.000 -0.221  0.007\n",
       "HML -0.132 -0.221  1.000 -0.230\n",
       "UMD -0.280  0.007 -0.230  1.000"
      ]
     },
     "metadata": {},
     "output_type": "display_data"
    },
    {
     "data": {
      "image/png": "[encoded data removed]",
      "text/plain": [
       "<Figure size 720x576 with 2 Axes>"
      ]
     },
     "metadata": {
      "needs_background": "light"
     },
     "output_type": "display_data"
    },
    {
     "name": "stdout",
     "output_type": "stream",
     "text": [
      "Factors with highest correlation: ('UMD', 'MKT')\n",
      "Factors with lowest correlation: ('UMD', 'SMB')\n"
     ]
    }
   ],
   "source": [
    "corrmat = factors.corr()\n",
    "print('**** Correlation Matrix ****')\n",
    "display(corrmat)\n",
    "\n",
    "plt.figure(figsize=(10,8))\n",
    "sns.heatmap(corrmat)\n",
    "plt.show()\n",
    "\n",
    "corrmat[corrmat==1] = None\n",
    "\n",
    "corr_rank = abs(corrmat.unstack()).sort_values(ascending = False).dropna()\n",
    "\n",
    "print('Factors with highest correlation: ' + str(corr_rank.index[1]))\n",
    "print('Factors with lowest correlation: ' + str(corr_rank.index[-1]))"
   ]
  },
  {
   "cell_type": "markdown",
   "id": "11d4ef30",
   "metadata": {},
   "source": [
    "Yes, the factors have low correlations. We can see that all the correlations have absolute value value less than 0.3, and many are even negatively correlated. Qualitatively speaking, these values are quite close to zero, and this is much lower correlation than we have seen when comparing different assets/securities before. "
   ]
  },
  {
   "cell_type": "markdown",
   "id": "8eab8b5f",
   "metadata": {},
   "source": [
    "3. Plot the cumulative returns of the factors."
   ]
  },
  {
   "cell_type": "code",
   "execution_count": 92,
   "id": "c0c4ddfb",
   "metadata": {},
   "outputs": [
    {
     "data": {
      "image/png": "[encoded data removed]",
      "text/plain": [
       "<Figure size 432x288 with 1 Axes>"
      ]
     },
     "metadata": {
      "needs_background": "light"
     },
     "output_type": "display_data"
    }
   ],
   "source": [
    "\n",
    "cum_rets = (1+factors).cumprod() - 1\n",
    "\n",
    "cum_rets[['SMB', 'HML', 'MKT', 'UMD']].loc[:'2021'].plot()\n",
    "plt.show()\n",
    "\n"
   ]
  },
  {
   "cell_type": "markdown",
   "id": "19bef1a4",
   "metadata": {},
   "source": [
    "4. Test assets.\n",
    "\n",
    "The “assets” tab provides monthly excess return data on various industry stock-portfolios.\n",
    "\n",
    "Denote these as ri, for n = 1,...,12.\n",
    "\n",
    "Calculate the (annualized) univariate statistics from 1.1"
   ]
  },
  {
   "cell_type": "code",
   "execution_count": 101,
   "id": "82b2c97a",
   "metadata": {},
   "outputs": [
    {
     "data": {
      "text/html": [
       "<style type=\"text/css\">\n",
       "</style>\n",
       "<table id=\"T_9317e\">\n",
       "  <thead>\n",
       "    <tr>\n",
       "      <th class=\"blank level0\" >&nbsp;</th>\n",
       "      <th id=\"T_9317e_level0_col0\" class=\"col_heading level0 col0\" >Mean</th>\n",
       "      <th id=\"T_9317e_level0_col1\" class=\"col_heading level0 col1\" >Vol</th>\n",
       "      <th id=\"T_9317e_level0_col2\" class=\"col_heading level0 col2\" >Sharpe</th>\n",
       "      <th id=\"T_9317e_level0_col3\" class=\"col_heading level0 col3\" >VaR(.05)</th>\n",
       "    </tr>\n",
       "  </thead>\n",
       "  <tbody>\n",
       "    <tr>\n",
       "      <th id=\"T_9317e_level0_row0\" class=\"row_heading level0 row0\" >NoDur</th>\n",
       "      <td id=\"T_9317e_row0_col0\" class=\"data row0 col0\" >0.085781</td>\n",
       "      <td id=\"T_9317e_row0_col1\" class=\"data row0 col1\" >0.131829</td>\n",
       "      <td id=\"T_9317e_row0_col2\" class=\"data row0 col2\" >2.254098</td>\n",
       "      <td id=\"T_9317e_row0_col3\" class=\"data row0 col3\" >-0.057325</td>\n",
       "    </tr>\n",
       "    <tr>\n",
       "      <th id=\"T_9317e_level0_row1\" class=\"row_heading level0 row1\" >Durbl</th>\n",
       "      <td id=\"T_9317e_row1_col0\" class=\"data row1 col0\" >0.106454</td>\n",
       "      <td id=\"T_9317e_row1_col1\" class=\"data row1 col1\" >0.270225</td>\n",
       "      <td id=\"T_9317e_row1_col2\" class=\"data row1 col2\" >1.364665</td>\n",
       "      <td id=\"T_9317e_row1_col3\" class=\"data row1 col3\" >-0.112125</td>\n",
       "    </tr>\n",
       "    <tr>\n",
       "      <th id=\"T_9317e_level0_row2\" class=\"row_heading level0 row2\" >Manuf</th>\n",
       "      <td id=\"T_9317e_row2_col0\" class=\"data row2 col0\" >0.101038</td>\n",
       "      <td id=\"T_9317e_row2_col1\" class=\"data row2 col1\" >0.184678</td>\n",
       "      <td id=\"T_9317e_row2_col2\" class=\"data row2 col2\" >1.895230</td>\n",
       "      <td id=\"T_9317e_row2_col3\" class=\"data row2 col3\" >-0.084080</td>\n",
       "    </tr>\n",
       "    <tr>\n",
       "      <th id=\"T_9317e_level0_row3\" class=\"row_heading level0 row3\" >Enrgy</th>\n",
       "      <td id=\"T_9317e_row3_col0\" class=\"data row3 col0\" >0.087028</td>\n",
       "      <td id=\"T_9317e_row3_col1\" class=\"data row3 col1\" >0.220138</td>\n",
       "      <td id=\"T_9317e_row3_col2\" class=\"data row3 col2\" >1.369474</td>\n",
       "      <td id=\"T_9317e_row3_col3\" class=\"data row3 col3\" >-0.095495</td>\n",
       "    </tr>\n",
       "    <tr>\n",
       "      <th id=\"T_9317e_level0_row4\" class=\"row_heading level0 row4\" >Chems</th>\n",
       "      <td id=\"T_9317e_row4_col0\" class=\"data row4 col0\" >0.085880</td>\n",
       "      <td id=\"T_9317e_row4_col1\" class=\"data row4 col1\" >0.147866</td>\n",
       "      <td id=\"T_9317e_row4_col2\" class=\"data row4 col2\" >2.011943</td>\n",
       "      <td id=\"T_9317e_row4_col3\" class=\"data row4 col3\" >-0.071560</td>\n",
       "    </tr>\n",
       "    <tr>\n",
       "      <th id=\"T_9317e_level0_row5\" class=\"row_heading level0 row5\" >BusEq</th>\n",
       "      <td id=\"T_9317e_row5_col0\" class=\"data row5 col0\" >0.124859</td>\n",
       "      <td id=\"T_9317e_row5_col1\" class=\"data row5 col1\" >0.235254</td>\n",
       "      <td id=\"T_9317e_row5_col2\" class=\"data row5 col2\" >1.838536</td>\n",
       "      <td id=\"T_9317e_row5_col3\" class=\"data row5 col3\" >-0.111065</td>\n",
       "    </tr>\n",
       "    <tr>\n",
       "      <th id=\"T_9317e_level0_row6\" class=\"row_heading level0 row6\" >Telcm</th>\n",
       "      <td id=\"T_9317e_row6_col0\" class=\"data row6 col0\" >0.054792</td>\n",
       "      <td id=\"T_9317e_row6_col1\" class=\"data row6 col1\" >0.175183</td>\n",
       "      <td id=\"T_9317e_row6_col2\" class=\"data row6 col2\" >1.083465</td>\n",
       "      <td id=\"T_9317e_row6_col3\" class=\"data row6 col3\" >-0.089795</td>\n",
       "    </tr>\n",
       "    <tr>\n",
       "      <th id=\"T_9317e_level0_row7\" class=\"row_heading level0 row7\" >Utils</th>\n",
       "      <td id=\"T_9317e_row7_col0\" class=\"data row7 col0\" >0.075019</td>\n",
       "      <td id=\"T_9317e_row7_col1\" class=\"data row7 col1\" >0.138273</td>\n",
       "      <td id=\"T_9317e_row7_col2\" class=\"data row7 col2\" >1.879417</td>\n",
       "      <td id=\"T_9317e_row7_col3\" class=\"data row7 col3\" >-0.062895</td>\n",
       "    </tr>\n",
       "    <tr>\n",
       "      <th id=\"T_9317e_level0_row8\" class=\"row_heading level0 row8\" >Shops</th>\n",
       "      <td id=\"T_9317e_row8_col0\" class=\"data row8 col0\" >0.096755</td>\n",
       "      <td id=\"T_9317e_row8_col1\" class=\"data row8 col1\" >0.160510</td>\n",
       "      <td id=\"T_9317e_row8_col2\" class=\"data row8 col2\" >2.088145</td>\n",
       "      <td id=\"T_9317e_row8_col3\" class=\"data row8 col3\" >-0.071895</td>\n",
       "    </tr>\n",
       "    <tr>\n",
       "      <th id=\"T_9317e_level0_row9\" class=\"row_heading level0 row9\" >Hlth</th>\n",
       "      <td id=\"T_9317e_row9_col0\" class=\"data row9 col0\" >0.097002</td>\n",
       "      <td id=\"T_9317e_row9_col1\" class=\"data row9 col1\" >0.153318</td>\n",
       "      <td id=\"T_9317e_row9_col2\" class=\"data row9 col2\" >2.191683</td>\n",
       "      <td id=\"T_9317e_row9_col3\" class=\"data row9 col3\" >-0.072780</td>\n",
       "    </tr>\n",
       "    <tr>\n",
       "      <th id=\"T_9317e_level0_row10\" class=\"row_heading level0 row10\" >Money</th>\n",
       "      <td id=\"T_9317e_row10_col0\" class=\"data row10 col0\" >0.093442</td>\n",
       "      <td id=\"T_9317e_row10_col1\" class=\"data row10 col1\" >0.195151</td>\n",
       "      <td id=\"T_9317e_row10_col2\" class=\"data row10 col2\" >1.658686</td>\n",
       "      <td id=\"T_9317e_row10_col3\" class=\"data row10 col3\" >-0.088235</td>\n",
       "    </tr>\n",
       "    <tr>\n",
       "      <th id=\"T_9317e_level0_row11\" class=\"row_heading level0 row11\" >Other</th>\n",
       "      <td id=\"T_9317e_row11_col0\" class=\"data row11 col0\" >0.059802</td>\n",
       "      <td id=\"T_9317e_row11_col1\" class=\"data row11 col1\" >0.171543</td>\n",
       "      <td id=\"T_9317e_row11_col2\" class=\"data row11 col2\" >1.207627</td>\n",
       "      <td id=\"T_9317e_row11_col3\" class=\"data row11 col3\" >-0.081715</td>\n",
       "    </tr>\n",
       "  </tbody>\n",
       "</table>\n"
      ],
      "text/plain": [
       "<pandas.io.formats.style.Styler at 0x7fab1e07b760>"
      ]
     },
     "execution_count": 101,
     "metadata": {},
     "output_type": "execute_result"
    }
   ],
   "source": [
    "assets_ann_mean = assets.mean(axis=0, numeric_only=True) * 12\n",
    "assets_ann_vol = assets.std(axis=0, numeric_only=True) * np.sqrt(12)\n",
    "assets_ann_sharpe = assets_ann_mean / assets_ann_vol * np.sqrt(12)\n",
    "assets_VaR = assets.quantile(0.05)\n",
    "\n",
    "assets_ann_sum_stats = pd.DataFrame({'Mean': assets_ann_mean, 'Vol': assets_ann_vol, 'Sharpe' : assets_ann_sharpe, 'VaR(.05)': assets_VaR})\n",
    "assets_ann_sum_stats.style\n"
   ]
  },
  {
   "cell_type": "markdown",
   "id": "f30333d3",
   "metadata": {},
   "source": [
    "5. Can the difference in mean excess returns of the portfolios be explained by differences in their\n",
    "volatilities? Or by their VaR(.05) statistics?"
   ]
  },
  {
   "cell_type": "markdown",
   "id": "1bb192c2",
   "metadata": {},
   "source": [
    "No. As Shown in the two scatter plots below (vol vs mean and VaR vs mean), there is no linear relationship between either of those factors and excess returns. "
   ]
  },
  {
   "cell_type": "code",
   "execution_count": 105,
   "id": "5ea3a843",
   "metadata": {},
   "outputs": [
    {
     "data": {
      "image/png": "[encoded data removed]",
      "text/plain": [
       "<Figure size 432x288 with 1 Axes>"
      ]
     },
     "metadata": {
      "needs_background": "light"
     },
     "output_type": "display_data"
    },
    {
     "ename": "TypeError",
     "evalue": "cannot perform reduce with flexible type",
     "output_type": "error",
     "traceback": [
      "\u001b[0;31m---------------------------------------------------------------------------\u001b[0m",
      "\u001b[0;31mTypeError\u001b[0m                                 Traceback (most recent call last)",
      "Input \u001b[0;32mIn [105]\u001b[0m, in \u001b[0;36m<cell line: 3>\u001b[0;34m()\u001b[0m\n\u001b[1;32m      1\u001b[0m assets_ann_sum_stats\u001b[38;5;241m.\u001b[39mplot\u001b[38;5;241m.\u001b[39mscatter(\u001b[38;5;124m'\u001b[39m\u001b[38;5;124mVol\u001b[39m\u001b[38;5;124m'\u001b[39m, \u001b[38;5;124m'\u001b[39m\u001b[38;5;124mMean\u001b[39m\u001b[38;5;124m'\u001b[39m)\n\u001b[1;32m      2\u001b[0m plt\u001b[38;5;241m.\u001b[39mshow()\n\u001b[0;32m----> 3\u001b[0m corr_mean_Vol \u001b[38;5;241m=\u001b[39m \u001b[43mnp\u001b[49m\u001b[38;5;241;43m.\u001b[39;49m\u001b[43mcorrcoef\u001b[49m\u001b[43m(\u001b[49m\u001b[38;5;124;43m'\u001b[39;49m\u001b[38;5;124;43mVol\u001b[39;49m\u001b[38;5;124;43m'\u001b[39;49m\u001b[43m,\u001b[49m\u001b[43m \u001b[49m\u001b[38;5;124;43m'\u001b[39;49m\u001b[38;5;124;43mMean\u001b[39;49m\u001b[38;5;124;43m'\u001b[39;49m\u001b[43m)\u001b[49m\n",
      "File \u001b[0;32m<__array_function__ internals>:5\u001b[0m, in \u001b[0;36mcorrcoef\u001b[0;34m(*args, **kwargs)\u001b[0m\n",
      "File \u001b[0;32m/opt/anaconda3/lib/python3.9/site-packages/numpy/lib/function_base.py:2683\u001b[0m, in \u001b[0;36mcorrcoef\u001b[0;34m(x, y, rowvar, bias, ddof, dtype)\u001b[0m\n\u001b[1;32m   2679\u001b[0m \u001b[38;5;28;01mif\u001b[39;00m bias \u001b[38;5;129;01mis\u001b[39;00m \u001b[38;5;129;01mnot\u001b[39;00m np\u001b[38;5;241m.\u001b[39m_NoValue \u001b[38;5;129;01mor\u001b[39;00m ddof \u001b[38;5;129;01mis\u001b[39;00m \u001b[38;5;129;01mnot\u001b[39;00m np\u001b[38;5;241m.\u001b[39m_NoValue:\n\u001b[1;32m   2680\u001b[0m     \u001b[38;5;66;03m# 2015-03-15, 1.10\u001b[39;00m\n\u001b[1;32m   2681\u001b[0m     warnings\u001b[38;5;241m.\u001b[39mwarn(\u001b[38;5;124m'\u001b[39m\u001b[38;5;124mbias and ddof have no effect and are deprecated\u001b[39m\u001b[38;5;124m'\u001b[39m,\n\u001b[1;32m   2682\u001b[0m                   \u001b[38;5;167;01mDeprecationWarning\u001b[39;00m, stacklevel\u001b[38;5;241m=\u001b[39m\u001b[38;5;241m3\u001b[39m)\n\u001b[0;32m-> 2683\u001b[0m c \u001b[38;5;241m=\u001b[39m \u001b[43mcov\u001b[49m\u001b[43m(\u001b[49m\u001b[43mx\u001b[49m\u001b[43m,\u001b[49m\u001b[43m \u001b[49m\u001b[43my\u001b[49m\u001b[43m,\u001b[49m\u001b[43m \u001b[49m\u001b[43mrowvar\u001b[49m\u001b[43m,\u001b[49m\u001b[43m \u001b[49m\u001b[43mdtype\u001b[49m\u001b[38;5;241;43m=\u001b[39;49m\u001b[43mdtype\u001b[49m\u001b[43m)\u001b[49m\n\u001b[1;32m   2684\u001b[0m \u001b[38;5;28;01mtry\u001b[39;00m:\n\u001b[1;32m   2685\u001b[0m     d \u001b[38;5;241m=\u001b[39m diag(c)\n",
      "File \u001b[0;32m<__array_function__ internals>:5\u001b[0m, in \u001b[0;36mcov\u001b[0;34m(*args, **kwargs)\u001b[0m\n",
      "File \u001b[0;32m/opt/anaconda3/lib/python3.9/site-packages/numpy/lib/function_base.py:2518\u001b[0m, in \u001b[0;36mcov\u001b[0;34m(m, y, rowvar, bias, ddof, fweights, aweights, dtype)\u001b[0m\n\u001b[1;32m   2515\u001b[0m     \u001b[38;5;28;01melse\u001b[39;00m:\n\u001b[1;32m   2516\u001b[0m         w \u001b[38;5;241m*\u001b[39m\u001b[38;5;241m=\u001b[39m aweights\n\u001b[0;32m-> 2518\u001b[0m avg, w_sum \u001b[38;5;241m=\u001b[39m \u001b[43maverage\u001b[49m\u001b[43m(\u001b[49m\u001b[43mX\u001b[49m\u001b[43m,\u001b[49m\u001b[43m \u001b[49m\u001b[43maxis\u001b[49m\u001b[38;5;241;43m=\u001b[39;49m\u001b[38;5;241;43m1\u001b[39;49m\u001b[43m,\u001b[49m\u001b[43m \u001b[49m\u001b[43mweights\u001b[49m\u001b[38;5;241;43m=\u001b[39;49m\u001b[43mw\u001b[49m\u001b[43m,\u001b[49m\u001b[43m \u001b[49m\u001b[43mreturned\u001b[49m\u001b[38;5;241;43m=\u001b[39;49m\u001b[38;5;28;43;01mTrue\u001b[39;49;00m\u001b[43m)\u001b[49m\n\u001b[1;32m   2519\u001b[0m w_sum \u001b[38;5;241m=\u001b[39m w_sum[\u001b[38;5;241m0\u001b[39m]\n\u001b[1;32m   2521\u001b[0m \u001b[38;5;66;03m# Determine the normalization\u001b[39;00m\n",
      "File \u001b[0;32m<__array_function__ internals>:5\u001b[0m, in \u001b[0;36maverage\u001b[0;34m(*args, **kwargs)\u001b[0m\n",
      "File \u001b[0;32m/opt/anaconda3/lib/python3.9/site-packages/numpy/lib/function_base.py:380\u001b[0m, in \u001b[0;36maverage\u001b[0;34m(a, axis, weights, returned)\u001b[0m\n\u001b[1;32m    377\u001b[0m a \u001b[38;5;241m=\u001b[39m np\u001b[38;5;241m.\u001b[39masanyarray(a)\n\u001b[1;32m    379\u001b[0m \u001b[38;5;28;01mif\u001b[39;00m weights \u001b[38;5;129;01mis\u001b[39;00m \u001b[38;5;28;01mNone\u001b[39;00m:\n\u001b[0;32m--> 380\u001b[0m     avg \u001b[38;5;241m=\u001b[39m \u001b[43ma\u001b[49m\u001b[38;5;241;43m.\u001b[39;49m\u001b[43mmean\u001b[49m\u001b[43m(\u001b[49m\u001b[43maxis\u001b[49m\u001b[43m)\u001b[49m\n\u001b[1;32m    381\u001b[0m     scl \u001b[38;5;241m=\u001b[39m avg\u001b[38;5;241m.\u001b[39mdtype\u001b[38;5;241m.\u001b[39mtype(a\u001b[38;5;241m.\u001b[39msize\u001b[38;5;241m/\u001b[39mavg\u001b[38;5;241m.\u001b[39msize)\n\u001b[1;32m    382\u001b[0m \u001b[38;5;28;01melse\u001b[39;00m:\n",
      "File \u001b[0;32m/opt/anaconda3/lib/python3.9/site-packages/numpy/core/_methods.py:179\u001b[0m, in \u001b[0;36m_mean\u001b[0;34m(a, axis, dtype, out, keepdims, where)\u001b[0m\n\u001b[1;32m    176\u001b[0m         dtype \u001b[38;5;241m=\u001b[39m mu\u001b[38;5;241m.\u001b[39mdtype(\u001b[38;5;124m'\u001b[39m\u001b[38;5;124mf4\u001b[39m\u001b[38;5;124m'\u001b[39m)\n\u001b[1;32m    177\u001b[0m         is_float16_result \u001b[38;5;241m=\u001b[39m \u001b[38;5;28;01mTrue\u001b[39;00m\n\u001b[0;32m--> 179\u001b[0m ret \u001b[38;5;241m=\u001b[39m \u001b[43mumr_sum\u001b[49m\u001b[43m(\u001b[49m\u001b[43marr\u001b[49m\u001b[43m,\u001b[49m\u001b[43m \u001b[49m\u001b[43maxis\u001b[49m\u001b[43m,\u001b[49m\u001b[43m \u001b[49m\u001b[43mdtype\u001b[49m\u001b[43m,\u001b[49m\u001b[43m \u001b[49m\u001b[43mout\u001b[49m\u001b[43m,\u001b[49m\u001b[43m \u001b[49m\u001b[43mkeepdims\u001b[49m\u001b[43m,\u001b[49m\u001b[43m \u001b[49m\u001b[43mwhere\u001b[49m\u001b[38;5;241;43m=\u001b[39;49m\u001b[43mwhere\u001b[49m\u001b[43m)\u001b[49m\n\u001b[1;32m    180\u001b[0m \u001b[38;5;28;01mif\u001b[39;00m \u001b[38;5;28misinstance\u001b[39m(ret, mu\u001b[38;5;241m.\u001b[39mndarray):\n\u001b[1;32m    181\u001b[0m     ret \u001b[38;5;241m=\u001b[39m um\u001b[38;5;241m.\u001b[39mtrue_divide(\n\u001b[1;32m    182\u001b[0m             ret, rcount, out\u001b[38;5;241m=\u001b[39mret, casting\u001b[38;5;241m=\u001b[39m\u001b[38;5;124m'\u001b[39m\u001b[38;5;124munsafe\u001b[39m\u001b[38;5;124m'\u001b[39m, subok\u001b[38;5;241m=\u001b[39m\u001b[38;5;28;01mFalse\u001b[39;00m)\n",
      "\u001b[0;31mTypeError\u001b[0m: cannot perform reduce with flexible type"
     ]
    }
   ],
   "source": [
    "assets_ann_sum_stats.plot.scatter('Vol', 'Mean')\n",
    "plt.show()"
   ]
  },
  {
   "cell_type": "code",
   "execution_count": 95,
   "id": "f4f7a78a",
   "metadata": {},
   "outputs": [
    {
     "data": {
      "image/png": "[encoded data removed]",
      "text/plain": [
       "<Figure size 432x288 with 1 Axes>"
      ]
     },
     "metadata": {
      "needs_background": "light"
     },
     "output_type": "display_data"
    }
   ],
   "source": [
    "assets_ann_sum_stats.plot.scatter('VaR(.05)', 'Mean')\n",
    "plt.show()"
   ]
  },
  {
   "cell_type": "markdown",
   "id": "1b45c22e",
   "metadata": {},
   "source": [
    "# 3 CAPM"
   ]
  },
  {
   "cell_type": "markdown",
   "id": "14ebaad5",
   "metadata": {},
   "source": [
    "\n",
    "1. For each of the n = 12 test assets, run the CAPM time-series regression:\n",
    " ̃ri\n",
    "t = αi + βi,mkt  ̃fmkt\n",
    "t + \u000fi\n",
    "t\n",
    "So you are running 12 separate regressions, each using the T-sized sample of time-series data\n",
    "\n",
    "2. Report the estimated βi,mkt, Treynor Ratio, αi, and Information Ratio for each of the n regres-\n",
    "sions."
   ]
  },
  {
   "cell_type": "code",
   "execution_count": 96,
   "id": "d2fe42fe",
   "metadata": {},
   "outputs": [],
   "source": [
    "def get_ols_metrics(regressors, targets, annualization=1, ignorenan=True):\n",
    "    # ensure regressors and targets are pandas dataframes, as expected\n",
    "    if not isinstance(regressors, pd.DataFrame):\n",
    "        regressors = regressors.to_frame()\n",
    "    if not isinstance(targets, pd.DataFrame):\n",
    "        targets = targets.to_frame()\n",
    "\n",
    "    # align the targets and regressors on the same dates\n",
    "    df_aligned = targets.join(regressors, how='inner', lsuffix='y ')\n",
    "    Y = df_aligned[targets.columns]\n",
    "    Xset = df_aligned[regressors.columns]\n",
    "\n",
    "    reg = pd.DataFrame(index=targets.columns)\n",
    "    for col in Y.columns:\n",
    "        y = Y[col]\n",
    "        \n",
    "        if ignorenan:\n",
    "            # ensure we use only non-NaN dates\n",
    "            alldata = Xset.join(y,lsuffix='X')\n",
    "            mask = alldata.notnull().all(axis=1)\n",
    "            y = y[mask]\n",
    "            X = Xset[mask]\n",
    "        else:\n",
    "            X = Xset\n",
    "\n",
    "        model = LinearRegression().fit(X, y)\n",
    "        reg.loc[col, 'alpha'] = model.intercept_ * annualization\n",
    "        reg.loc[col, regressors.columns] = model.coef_\n",
    "        reg.loc[col, 'r-squared'] = model.score(X, y)\n",
    "\n",
    "        # sklearn does not return the residuals, so we need to build them\n",
    "        yfit = model.predict(X)\n",
    "        residuals = y - yfit\n",
    "\n",
    "        # Treynor Ratio is only defined for univariate regression\n",
    "        if Xset.shape[1] == 1:\n",
    "            reg.loc[col,'Treynor Ratio'] = (y.mean() / model.coef_) * annualization\n",
    "\n",
    "        \n",
    "        # if intercept =0, numerical roundoff will nonetheless show nonzero Info Ratio\n",
    "        num_roundoff = 1e-12\n",
    "        if np.abs(model.intercept_) < num_roundoff:\n",
    "            reg.loc[col, 'Info Ratio'] = None\n",
    "        else:\n",
    "            reg.loc[col, 'Info Ratio'] = (model.intercept_ / residuals.std()) * np.sqrt(annualization)\n",
    "\n",
    "    return reg\n"
   ]
  },
  {
   "cell_type": "code",
   "execution_count": 97,
   "id": "8f4ca607",
   "metadata": {},
   "outputs": [
    {
     "data": {
      "text/html": [
       "<div>\n",
       "<style scoped>\n",
       "    .dataframe tbody tr th:only-of-type {\n",
       "        vertical-align: middle;\n",
       "    }\n",
       "\n",
       "    .dataframe tbody tr th {\n",
       "        vertical-align: top;\n",
       "    }\n",
       "\n",
       "    .dataframe thead th {\n",
       "        text-align: right;\n",
       "    }\n",
       "</style>\n",
       "<table border=\"1\" class=\"dataframe\">\n",
       "  <thead>\n",
       "    <tr style=\"text-align: right;\">\n",
       "      <th></th>\n",
       "      <th>alpha</th>\n",
       "      <th>MKT</th>\n",
       "      <th>r-squared</th>\n",
       "      <th>Treynor Ratio</th>\n",
       "      <th>Info Ratio</th>\n",
       "    </tr>\n",
       "  </thead>\n",
       "  <tbody>\n",
       "    <tr>\n",
       "      <th>NoDur</th>\n",
       "      <td>0.003</td>\n",
       "      <td>0.631</td>\n",
       "      <td>0.529</td>\n",
       "      <td>0.011</td>\n",
       "      <td>0.104</td>\n",
       "    </tr>\n",
       "    <tr>\n",
       "      <th>Durbl</th>\n",
       "      <td>-0.001</td>\n",
       "      <td>1.361</td>\n",
       "      <td>0.585</td>\n",
       "      <td>0.007</td>\n",
       "      <td>-0.014</td>\n",
       "    </tr>\n",
       "    <tr>\n",
       "      <th>Manuf</th>\n",
       "      <td>0.001</td>\n",
       "      <td>1.103</td>\n",
       "      <td>0.823</td>\n",
       "      <td>0.008</td>\n",
       "      <td>0.030</td>\n",
       "    </tr>\n",
       "    <tr>\n",
       "      <th>Enrgy</th>\n",
       "      <td>0.001</td>\n",
       "      <td>0.844</td>\n",
       "      <td>0.339</td>\n",
       "      <td>0.009</td>\n",
       "      <td>0.026</td>\n",
       "    </tr>\n",
       "    <tr>\n",
       "      <th>Chems</th>\n",
       "      <td>0.002</td>\n",
       "      <td>0.766</td>\n",
       "      <td>0.619</td>\n",
       "      <td>0.009</td>\n",
       "      <td>0.067</td>\n",
       "    </tr>\n",
       "    <tr>\n",
       "      <th>BusEq</th>\n",
       "      <td>0.001</td>\n",
       "      <td>1.335</td>\n",
       "      <td>0.743</td>\n",
       "      <td>0.008</td>\n",
       "      <td>0.030</td>\n",
       "    </tr>\n",
       "    <tr>\n",
       "      <th>Telcm</th>\n",
       "      <td>-0.002</td>\n",
       "      <td>0.924</td>\n",
       "      <td>0.642</td>\n",
       "      <td>0.005</td>\n",
       "      <td>-0.064</td>\n",
       "    </tr>\n",
       "    <tr>\n",
       "      <th>Utils</th>\n",
       "      <td>0.003</td>\n",
       "      <td>0.409</td>\n",
       "      <td>0.202</td>\n",
       "      <td>0.015</td>\n",
       "      <td>0.095</td>\n",
       "    </tr>\n",
       "    <tr>\n",
       "      <th>Shops</th>\n",
       "      <td>0.002</td>\n",
       "      <td>0.894</td>\n",
       "      <td>0.716</td>\n",
       "      <td>0.009</td>\n",
       "      <td>0.072</td>\n",
       "    </tr>\n",
       "    <tr>\n",
       "      <th>Hlth</th>\n",
       "      <td>0.003</td>\n",
       "      <td>0.721</td>\n",
       "      <td>0.510</td>\n",
       "      <td>0.011</td>\n",
       "      <td>0.097</td>\n",
       "    </tr>\n",
       "    <tr>\n",
       "      <th>Money</th>\n",
       "      <td>0.000</td>\n",
       "      <td>1.092</td>\n",
       "      <td>0.722</td>\n",
       "      <td>0.007</td>\n",
       "      <td>0.004</td>\n",
       "    </tr>\n",
       "    <tr>\n",
       "      <th>Other</th>\n",
       "      <td>-0.002</td>\n",
       "      <td>1.050</td>\n",
       "      <td>0.864</td>\n",
       "      <td>0.005</td>\n",
       "      <td>-0.131</td>\n",
       "    </tr>\n",
       "  </tbody>\n",
       "</table>\n",
       "</div>"
      ],
      "text/plain": [
       "       alpha   MKT  r-squared  Treynor Ratio  Info Ratio\n",
       "NoDur  0.003 0.631      0.529          0.011       0.104\n",
       "Durbl -0.001 1.361      0.585          0.007      -0.014\n",
       "Manuf  0.001 1.103      0.823          0.008       0.030\n",
       "Enrgy  0.001 0.844      0.339          0.009       0.026\n",
       "Chems  0.002 0.766      0.619          0.009       0.067\n",
       "BusEq  0.001 1.335      0.743          0.008       0.030\n",
       "Telcm -0.002 0.924      0.642          0.005      -0.064\n",
       "Utils  0.003 0.409      0.202          0.015       0.095\n",
       "Shops  0.002 0.894      0.716          0.009       0.072\n",
       "Hlth   0.003 0.721      0.510          0.011       0.097\n",
       "Money  0.000 1.092      0.722          0.007       0.004\n",
       "Other -0.002 1.050      0.864          0.005      -0.131"
      ]
     },
     "metadata": {},
     "output_type": "display_data"
    }
   ],
   "source": [
    "coef_table = get_ols_metrics(factors['MKT'], portfolios, annualization=1, ignorenan=True)\n",
    "display(coef_table)\n"
   ]
  },
  {
   "cell_type": "markdown",
   "id": "66ddd207",
   "metadata": {},
   "source": [
    "3. If (CAPM) were true, what would be true of the Treynor Ratios, alphas, and Information Ratios?\n",
    "\n",
    "\n",
    "\n",
    "The alphas would be zero because otherwise there would be excess return that is not explained by correlation to the market.\n",
    "The treynor ratios would all be the same because CAPM implies that expected return is proportionate to market risk.\n",
    "\n",
    "Information ratio should be zero because alpha is zero.\n",
    "\n",
    "\n"
   ]
  },
  {
   "cell_type": "code",
   "execution_count": 98,
   "id": "7fd097e9",
   "metadata": {},
   "outputs": [
    {
     "name": "stdout",
     "output_type": "stream",
     "text": [
      "MAE: \n",
      "0.00173232537984283\n"
     ]
    }
   ],
   "source": [
    "alpha_mean=coef_table.alpha.abs().mean()\n",
    "print (\"MAE: \")\n",
    "print(alpha_mean)"
   ]
  },
  {
   "cell_type": "markdown",
   "id": "7af49831",
   "metadata": {},
   "source": []
  },
  {
   "cell_type": "markdown",
   "id": "2f274316",
   "metadata": {},
   "source": [
    "4. Calculate the mean-absolute-error of the estimated alphas, (one for each security,  ̃ri.)\n",
    "MAE = 1\n",
    "n\n",
    "n∑\n",
    "i=1\n",
    "|ˆαi|\n",
    "If the pricing model worked, should these alpha estimates be large or small? Why? Based on\n",
    "your MAE stat, does this seem to support the pricing model or not?"
   ]
  },
  {
   "cell_type": "markdown",
   "id": "ada8a153",
   "metadata": {},
   "source": [
    "If CAPM worked, these estimates should be small because otherwise there would be an excess that cannot be explained by market beta. CAPM seems to be imperfect because MAE is not exactly zero, but it does appear to work somewhat because the value of 0.0017 is still very small."
   ]
  },
  {
   "cell_type": "markdown",
   "id": "adb21207",
   "metadata": {},
   "source": [
    "# 4 a multifactor model"
   ]
  },
  {
   "cell_type": "markdown",
   "id": "891dde78",
   "metadata": {},
   "source": [
    "1. For each regression, report the estimated α and r-squared."
   ]
  },
  {
   "cell_type": "code",
   "execution_count": 99,
   "id": "e49b9323",
   "metadata": {},
   "outputs": [
    {
     "data": {
      "text/html": [
       "<div>\n",
       "<style scoped>\n",
       "    .dataframe tbody tr th:only-of-type {\n",
       "        vertical-align: middle;\n",
       "    }\n",
       "\n",
       "    .dataframe tbody tr th {\n",
       "        vertical-align: top;\n",
       "    }\n",
       "\n",
       "    .dataframe thead th {\n",
       "        text-align: right;\n",
       "    }\n",
       "</style>\n",
       "<table border=\"1\" class=\"dataframe\">\n",
       "  <thead>\n",
       "    <tr style=\"text-align: right;\">\n",
       "      <th></th>\n",
       "      <th>alpha</th>\n",
       "      <th>MKT</th>\n",
       "      <th>SMB</th>\n",
       "      <th>HML</th>\n",
       "      <th>UMD</th>\n",
       "      <th>r-squared</th>\n",
       "      <th>Info Ratio</th>\n",
       "    </tr>\n",
       "  </thead>\n",
       "  <tbody>\n",
       "    <tr>\n",
       "      <th>NoDur</th>\n",
       "      <td>0.002</td>\n",
       "      <td>0.693</td>\n",
       "      <td>-0.224</td>\n",
       "      <td>0.181</td>\n",
       "      <td>0.018</td>\n",
       "      <td>0.593</td>\n",
       "      <td>0.088</td>\n",
       "    </tr>\n",
       "    <tr>\n",
       "      <th>Durbl</th>\n",
       "      <td>0.000</td>\n",
       "      <td>1.283</td>\n",
       "      <td>0.226</td>\n",
       "      <td>0.390</td>\n",
       "      <td>-0.253</td>\n",
       "      <td>0.645</td>\n",
       "      <td>0.005</td>\n",
       "    </tr>\n",
       "    <tr>\n",
       "      <th>Manuf</th>\n",
       "      <td>0.001</td>\n",
       "      <td>1.090</td>\n",
       "      <td>0.099</td>\n",
       "      <td>0.267</td>\n",
       "      <td>-0.072</td>\n",
       "      <td>0.857</td>\n",
       "      <td>0.030</td>\n",
       "    </tr>\n",
       "    <tr>\n",
       "      <th>Enrgy</th>\n",
       "      <td>-0.000</td>\n",
       "      <td>0.895</td>\n",
       "      <td>0.100</td>\n",
       "      <td>0.664</td>\n",
       "      <td>0.013</td>\n",
       "      <td>0.444</td>\n",
       "      <td>-0.004</td>\n",
       "    </tr>\n",
       "    <tr>\n",
       "      <th>Chems</th>\n",
       "      <td>0.001</td>\n",
       "      <td>0.813</td>\n",
       "      <td>-0.170</td>\n",
       "      <td>0.212</td>\n",
       "      <td>-0.012</td>\n",
       "      <td>0.668</td>\n",
       "      <td>0.055</td>\n",
       "    </tr>\n",
       "    <tr>\n",
       "      <th>BusEq</th>\n",
       "      <td>0.003</td>\n",
       "      <td>1.207</td>\n",
       "      <td>0.183</td>\n",
       "      <td>-0.643</td>\n",
       "      <td>-0.115</td>\n",
       "      <td>0.842</td>\n",
       "      <td>0.121</td>\n",
       "    </tr>\n",
       "    <tr>\n",
       "      <th>Telcm</th>\n",
       "      <td>-0.001</td>\n",
       "      <td>0.933</td>\n",
       "      <td>-0.168</td>\n",
       "      <td>-0.036</td>\n",
       "      <td>-0.057</td>\n",
       "      <td>0.654</td>\n",
       "      <td>-0.050</td>\n",
       "    </tr>\n",
       "    <tr>\n",
       "      <th>Utils</th>\n",
       "      <td>0.002</td>\n",
       "      <td>0.513</td>\n",
       "      <td>-0.219</td>\n",
       "      <td>0.312</td>\n",
       "      <td>0.119</td>\n",
       "      <td>0.304</td>\n",
       "      <td>0.055</td>\n",
       "    </tr>\n",
       "    <tr>\n",
       "      <th>Shops</th>\n",
       "      <td>0.002</td>\n",
       "      <td>0.895</td>\n",
       "      <td>-0.032</td>\n",
       "      <td>-0.006</td>\n",
       "      <td>-0.015</td>\n",
       "      <td>0.717</td>\n",
       "      <td>0.077</td>\n",
       "    </tr>\n",
       "    <tr>\n",
       "      <th>Hlth</th>\n",
       "      <td>0.003</td>\n",
       "      <td>0.761</td>\n",
       "      <td>-0.196</td>\n",
       "      <td>-0.151</td>\n",
       "      <td>0.066</td>\n",
       "      <td>0.542</td>\n",
       "      <td>0.095</td>\n",
       "    </tr>\n",
       "    <tr>\n",
       "      <th>Money</th>\n",
       "      <td>-0.001</td>\n",
       "      <td>1.155</td>\n",
       "      <td>-0.132</td>\n",
       "      <td>0.601</td>\n",
       "      <td>-0.059</td>\n",
       "      <td>0.864</td>\n",
       "      <td>-0.040</td>\n",
       "    </tr>\n",
       "    <tr>\n",
       "      <th>Other</th>\n",
       "      <td>-0.003</td>\n",
       "      <td>1.035</td>\n",
       "      <td>0.118</td>\n",
       "      <td>0.205</td>\n",
       "      <td>-0.046</td>\n",
       "      <td>0.887</td>\n",
       "      <td>-0.150</td>\n",
       "    </tr>\n",
       "  </tbody>\n",
       "</table>\n",
       "</div>"
      ],
      "text/plain": [
       "       alpha   MKT    SMB    HML    UMD  r-squared  Info Ratio\n",
       "NoDur  0.002 0.693 -0.224  0.181  0.018      0.593       0.088\n",
       "Durbl  0.000 1.283  0.226  0.390 -0.253      0.645       0.005\n",
       "Manuf  0.001 1.090  0.099  0.267 -0.072      0.857       0.030\n",
       "Enrgy -0.000 0.895  0.100  0.664  0.013      0.444      -0.004\n",
       "Chems  0.001 0.813 -0.170  0.212 -0.012      0.668       0.055\n",
       "BusEq  0.003 1.207  0.183 -0.643 -0.115      0.842       0.121\n",
       "Telcm -0.001 0.933 -0.168 -0.036 -0.057      0.654      -0.050\n",
       "Utils  0.002 0.513 -0.219  0.312  0.119      0.304       0.055\n",
       "Shops  0.002 0.895 -0.032 -0.006 -0.015      0.717       0.077\n",
       "Hlth   0.003 0.761 -0.196 -0.151  0.066      0.542       0.095\n",
       "Money -0.001 1.155 -0.132  0.601 -0.059      0.864      -0.040\n",
       "Other -0.003 1.035  0.118  0.205 -0.046      0.887      -0.150"
      ]
     },
     "metadata": {},
     "output_type": "display_data"
    }
   ],
   "source": [
    "\n",
    "multi_coef_table = get_ols_metrics(factors, assets, annualization=1, ignorenan=True)\n",
    "display(multi_coef_table)\n",
    "\n"
   ]
  },
  {
   "cell_type": "markdown",
   "id": "45beaa0e",
   "metadata": {},
   "source": [
    "2. Calculate the mean-absolute-error of the estimated alphas, (one for each security,  ̃ri.)"
   ]
  },
  {
   "cell_type": "code",
   "execution_count": 86,
   "id": "8c04ae66",
   "metadata": {},
   "outputs": [
    {
     "name": "stdout",
     "output_type": "stream",
     "text": [
      "MAE: \n",
      "0.0015991193137494082\n"
     ]
    }
   ],
   "source": [
    "multi_alpha_mean=multi_coef_table.alpha.abs().mean()\n",
    "print (\"MAE: \")\n",
    "print(multi_alpha_mean)"
   ]
  },
  {
   "cell_type": "markdown",
   "id": "a2ed6bb8",
   "metadata": {},
   "source": [
    "Alpha should be zero if the pricing model is correct otherwise there would be an excess return that is not explained by the factors given.\n",
    "\n",
    "The MAE for this model is 0.0001 smaller than the CAPM MAE, suggesting that this model is a slight improvement. However, it does not seem to be a very significant difference. Much like CAPM, this MAE is close to zero but not exactly zero, suggesting that the model is somewhat accurate but still imperfect."
   ]
  },
  {
   "cell_type": "code",
   "execution_count": null,
   "id": "22d170fd",
   "metadata": {},
   "outputs": [],
   "source": []
  }
 ],
 "metadata": {
  "kernelspec": {
   "display_name": "Python 3 (ipykernel)",
   "language": "python",
   "name": "python3"
  },
  "language_info": {
   "codemirror_mode": {
    "name": "ipython",
    "version": 3
   },
   "file_extension": ".py",
   "mimetype": "text/x-python",
   "name": "python",
   "nbconvert_exporter": "python",
   "pygments_lexer": "ipython3",
   "version": "3.9.12"
  }
 },
 "nbformat": 4,
 "nbformat_minor": 5
}
